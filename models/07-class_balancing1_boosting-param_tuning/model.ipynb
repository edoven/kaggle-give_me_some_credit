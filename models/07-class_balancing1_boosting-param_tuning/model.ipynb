{
 "cells": [
  {
   "cell_type": "markdown",
   "metadata": {},
   "source": [
    "# Load libraries"
   ]
  },
  {
   "cell_type": "code",
   "execution_count": 1,
   "metadata": {
    "collapsed": false
   },
   "outputs": [
    {
     "name": "stderr",
     "output_type": "stream",
     "text": [
      "C:\\Users\\edve\\AppData\\Local\\Continuum\\Anaconda2\\lib\\site-packages\\sklearn\\cross_validation.py:44: DeprecationWarning: This module was deprecated in version 0.18 in favor of the model_selection module into which all the refactored classes and functions are moved. Also note that the interface of the new CV iterators are different from that of this module. This module will be removed in 0.20.\n",
      "  \"This module will be removed in 0.20.\", DeprecationWarning)\n"
     ]
    }
   ],
   "source": [
    "import pandas as pd\n",
    "#from sklearn.cross_validation import KFold,StratifiedKFold\n",
    "#import datetime\n",
    "import numpy as np\n",
    "#from sklearn import linear_model\n",
    "from sklearn.ensemble import RandomForestClassifier\n",
    "#from sklearn import metrics\n",
    "#from sklearn.metrics import roc_auc_score\n",
    "#from sklearn.linear_model import LogisticRegression\n",
    "from sklearn.decomposition import PCA,TruncatedSVD\n",
    "from sklearn import metrics\n",
    "from sklearn.cross_validation import StratifiedKFold\n",
    "import seaborn as sns\n",
    "from sklearn import metrics\n",
    "from sklearn.ensemble import RandomForestRegressor\n",
    "from sklearn.cross_validation import cross_val_score\n",
    "from sklearn.linear_model import Lasso\n",
    "from sklearn.linear_model import Ridge\n",
    "from sklearn.linear_model import BayesianRidge\n",
    "from sklearn.linear_model import ElasticNet\n",
    "from sklearn.svm import SVR\n",
    "from sklearn.ensemble import AdaBoostClassifier\n",
    "from sklearn.ensemble import GradientBoostingClassifier\n",
    "\n",
    "#import seaborn as sns\n",
    "#import pickle\n",
    "#from sklearn import metrics\n",
    "#import sys\n",
    "\n",
    "import matplotlib.pyplot as plt"
   ]
  },
  {
   "cell_type": "code",
   "execution_count": 2,
   "metadata": {
    "collapsed": false
   },
   "outputs": [],
   "source": [
    "plt.style.use('ggplot')\n",
    "\n",
    "%matplotlib inline"
   ]
  },
  {
   "cell_type": "markdown",
   "metadata": {},
   "source": [
    "#  \n",
    "# Load data"
   ]
  },
  {
   "cell_type": "code",
   "execution_count": 3,
   "metadata": {
    "collapsed": false
   },
   "outputs": [],
   "source": [
    "df = pd.read_csv('../../data/cs-training.csv')"
   ]
  },
  {
   "cell_type": "code",
   "execution_count": 4,
   "metadata": {
    "collapsed": false
   },
   "outputs": [
    {
     "data": {
      "text/html": [
       "<div>\n",
       "<table border=\"1\" class=\"dataframe\">\n",
       "  <thead>\n",
       "    <tr style=\"text-align: right;\">\n",
       "      <th></th>\n",
       "      <th>Unnamed: 0</th>\n",
       "      <th>SeriousDlqin2yrs</th>\n",
       "      <th>RevolvingUtilizationOfUnsecuredLines</th>\n",
       "      <th>age</th>\n",
       "      <th>NumberOfTime30-59DaysPastDueNotWorse</th>\n",
       "      <th>DebtRatio</th>\n",
       "      <th>MonthlyIncome</th>\n",
       "      <th>NumberOfOpenCreditLinesAndLoans</th>\n",
       "      <th>NumberOfTimes90DaysLate</th>\n",
       "      <th>NumberRealEstateLoansOrLines</th>\n",
       "      <th>NumberOfTime60-89DaysPastDueNotWorse</th>\n",
       "      <th>NumberOfDependents</th>\n",
       "    </tr>\n",
       "  </thead>\n",
       "  <tbody>\n",
       "    <tr>\n",
       "      <th>0</th>\n",
       "      <td>1</td>\n",
       "      <td>1</td>\n",
       "      <td>0.766127</td>\n",
       "      <td>45</td>\n",
       "      <td>2</td>\n",
       "      <td>0.802982</td>\n",
       "      <td>9120.0</td>\n",
       "      <td>13</td>\n",
       "      <td>0</td>\n",
       "      <td>6</td>\n",
       "      <td>0</td>\n",
       "      <td>2.0</td>\n",
       "    </tr>\n",
       "    <tr>\n",
       "      <th>1</th>\n",
       "      <td>2</td>\n",
       "      <td>0</td>\n",
       "      <td>0.957151</td>\n",
       "      <td>40</td>\n",
       "      <td>0</td>\n",
       "      <td>0.121876</td>\n",
       "      <td>2600.0</td>\n",
       "      <td>4</td>\n",
       "      <td>0</td>\n",
       "      <td>0</td>\n",
       "      <td>0</td>\n",
       "      <td>1.0</td>\n",
       "    </tr>\n",
       "    <tr>\n",
       "      <th>2</th>\n",
       "      <td>3</td>\n",
       "      <td>0</td>\n",
       "      <td>0.658180</td>\n",
       "      <td>38</td>\n",
       "      <td>1</td>\n",
       "      <td>0.085113</td>\n",
       "      <td>3042.0</td>\n",
       "      <td>2</td>\n",
       "      <td>1</td>\n",
       "      <td>0</td>\n",
       "      <td>0</td>\n",
       "      <td>0.0</td>\n",
       "    </tr>\n",
       "    <tr>\n",
       "      <th>3</th>\n",
       "      <td>4</td>\n",
       "      <td>0</td>\n",
       "      <td>0.233810</td>\n",
       "      <td>30</td>\n",
       "      <td>0</td>\n",
       "      <td>0.036050</td>\n",
       "      <td>3300.0</td>\n",
       "      <td>5</td>\n",
       "      <td>0</td>\n",
       "      <td>0</td>\n",
       "      <td>0</td>\n",
       "      <td>0.0</td>\n",
       "    </tr>\n",
       "    <tr>\n",
       "      <th>4</th>\n",
       "      <td>5</td>\n",
       "      <td>0</td>\n",
       "      <td>0.907239</td>\n",
       "      <td>49</td>\n",
       "      <td>1</td>\n",
       "      <td>0.024926</td>\n",
       "      <td>63588.0</td>\n",
       "      <td>7</td>\n",
       "      <td>0</td>\n",
       "      <td>1</td>\n",
       "      <td>0</td>\n",
       "      <td>0.0</td>\n",
       "    </tr>\n",
       "  </tbody>\n",
       "</table>\n",
       "</div>"
      ],
      "text/plain": [
       "   Unnamed: 0  SeriousDlqin2yrs  RevolvingUtilizationOfUnsecuredLines  age  \\\n",
       "0           1                 1                              0.766127   45   \n",
       "1           2                 0                              0.957151   40   \n",
       "2           3                 0                              0.658180   38   \n",
       "3           4                 0                              0.233810   30   \n",
       "4           5                 0                              0.907239   49   \n",
       "\n",
       "   NumberOfTime30-59DaysPastDueNotWorse  DebtRatio  MonthlyIncome  \\\n",
       "0                                     2   0.802982         9120.0   \n",
       "1                                     0   0.121876         2600.0   \n",
       "2                                     1   0.085113         3042.0   \n",
       "3                                     0   0.036050         3300.0   \n",
       "4                                     1   0.024926        63588.0   \n",
       "\n",
       "   NumberOfOpenCreditLinesAndLoans  NumberOfTimes90DaysLate  \\\n",
       "0                               13                        0   \n",
       "1                                4                        0   \n",
       "2                                2                        1   \n",
       "3                                5                        0   \n",
       "4                                7                        0   \n",
       "\n",
       "   NumberRealEstateLoansOrLines  NumberOfTime60-89DaysPastDueNotWorse  \\\n",
       "0                             6                                     0   \n",
       "1                             0                                     0   \n",
       "2                             0                                     0   \n",
       "3                             0                                     0   \n",
       "4                             1                                     0   \n",
       "\n",
       "   NumberOfDependents  \n",
       "0                 2.0  \n",
       "1                 1.0  \n",
       "2                 0.0  \n",
       "3                 0.0  \n",
       "4                 0.0  "
      ]
     },
     "execution_count": 4,
     "metadata": {},
     "output_type": "execute_result"
    }
   ],
   "source": [
    "df.head()"
   ]
  },
  {
   "cell_type": "code",
   "execution_count": 5,
   "metadata": {
    "collapsed": false
   },
   "outputs": [],
   "source": [
    "df.rename(columns={df.columns[0]:'id'}, inplace=True)"
   ]
  },
  {
   "cell_type": "code",
   "execution_count": 6,
   "metadata": {
    "collapsed": false
   },
   "outputs": [
    {
     "data": {
      "text/html": [
       "<div>\n",
       "<table border=\"1\" class=\"dataframe\">\n",
       "  <thead>\n",
       "    <tr style=\"text-align: right;\">\n",
       "      <th></th>\n",
       "      <th>id</th>\n",
       "      <th>SeriousDlqin2yrs</th>\n",
       "      <th>RevolvingUtilizationOfUnsecuredLines</th>\n",
       "      <th>age</th>\n",
       "      <th>NumberOfTime30-59DaysPastDueNotWorse</th>\n",
       "      <th>DebtRatio</th>\n",
       "      <th>MonthlyIncome</th>\n",
       "      <th>NumberOfOpenCreditLinesAndLoans</th>\n",
       "      <th>NumberOfTimes90DaysLate</th>\n",
       "      <th>NumberRealEstateLoansOrLines</th>\n",
       "      <th>NumberOfTime60-89DaysPastDueNotWorse</th>\n",
       "      <th>NumberOfDependents</th>\n",
       "    </tr>\n",
       "  </thead>\n",
       "  <tbody>\n",
       "    <tr>\n",
       "      <th>0</th>\n",
       "      <td>1</td>\n",
       "      <td>1</td>\n",
       "      <td>0.766127</td>\n",
       "      <td>45</td>\n",
       "      <td>2</td>\n",
       "      <td>0.802982</td>\n",
       "      <td>9120.0</td>\n",
       "      <td>13</td>\n",
       "      <td>0</td>\n",
       "      <td>6</td>\n",
       "      <td>0</td>\n",
       "      <td>2.0</td>\n",
       "    </tr>\n",
       "    <tr>\n",
       "      <th>1</th>\n",
       "      <td>2</td>\n",
       "      <td>0</td>\n",
       "      <td>0.957151</td>\n",
       "      <td>40</td>\n",
       "      <td>0</td>\n",
       "      <td>0.121876</td>\n",
       "      <td>2600.0</td>\n",
       "      <td>4</td>\n",
       "      <td>0</td>\n",
       "      <td>0</td>\n",
       "      <td>0</td>\n",
       "      <td>1.0</td>\n",
       "    </tr>\n",
       "    <tr>\n",
       "      <th>2</th>\n",
       "      <td>3</td>\n",
       "      <td>0</td>\n",
       "      <td>0.658180</td>\n",
       "      <td>38</td>\n",
       "      <td>1</td>\n",
       "      <td>0.085113</td>\n",
       "      <td>3042.0</td>\n",
       "      <td>2</td>\n",
       "      <td>1</td>\n",
       "      <td>0</td>\n",
       "      <td>0</td>\n",
       "      <td>0.0</td>\n",
       "    </tr>\n",
       "    <tr>\n",
       "      <th>3</th>\n",
       "      <td>4</td>\n",
       "      <td>0</td>\n",
       "      <td>0.233810</td>\n",
       "      <td>30</td>\n",
       "      <td>0</td>\n",
       "      <td>0.036050</td>\n",
       "      <td>3300.0</td>\n",
       "      <td>5</td>\n",
       "      <td>0</td>\n",
       "      <td>0</td>\n",
       "      <td>0</td>\n",
       "      <td>0.0</td>\n",
       "    </tr>\n",
       "    <tr>\n",
       "      <th>4</th>\n",
       "      <td>5</td>\n",
       "      <td>0</td>\n",
       "      <td>0.907239</td>\n",
       "      <td>49</td>\n",
       "      <td>1</td>\n",
       "      <td>0.024926</td>\n",
       "      <td>63588.0</td>\n",
       "      <td>7</td>\n",
       "      <td>0</td>\n",
       "      <td>1</td>\n",
       "      <td>0</td>\n",
       "      <td>0.0</td>\n",
       "    </tr>\n",
       "  </tbody>\n",
       "</table>\n",
       "</div>"
      ],
      "text/plain": [
       "   id  SeriousDlqin2yrs  RevolvingUtilizationOfUnsecuredLines  age  \\\n",
       "0   1                 1                              0.766127   45   \n",
       "1   2                 0                              0.957151   40   \n",
       "2   3                 0                              0.658180   38   \n",
       "3   4                 0                              0.233810   30   \n",
       "4   5                 0                              0.907239   49   \n",
       "\n",
       "   NumberOfTime30-59DaysPastDueNotWorse  DebtRatio  MonthlyIncome  \\\n",
       "0                                     2   0.802982         9120.0   \n",
       "1                                     0   0.121876         2600.0   \n",
       "2                                     1   0.085113         3042.0   \n",
       "3                                     0   0.036050         3300.0   \n",
       "4                                     1   0.024926        63588.0   \n",
       "\n",
       "   NumberOfOpenCreditLinesAndLoans  NumberOfTimes90DaysLate  \\\n",
       "0                               13                        0   \n",
       "1                                4                        0   \n",
       "2                                2                        1   \n",
       "3                                5                        0   \n",
       "4                                7                        0   \n",
       "\n",
       "   NumberRealEstateLoansOrLines  NumberOfTime60-89DaysPastDueNotWorse  \\\n",
       "0                             6                                     0   \n",
       "1                             0                                     0   \n",
       "2                             0                                     0   \n",
       "3                             0                                     0   \n",
       "4                             1                                     0   \n",
       "\n",
       "   NumberOfDependents  \n",
       "0                 2.0  \n",
       "1                 1.0  \n",
       "2                 0.0  \n",
       "3                 0.0  \n",
       "4                 0.0  "
      ]
     },
     "execution_count": 6,
     "metadata": {},
     "output_type": "execute_result"
    }
   ],
   "source": [
    "df.head()"
   ]
  },
  {
   "cell_type": "code",
   "execution_count": 7,
   "metadata": {
    "collapsed": false
   },
   "outputs": [
    {
     "data": {
      "text/plain": [
       "150000"
      ]
     },
     "execution_count": 7,
     "metadata": {},
     "output_type": "execute_result"
    }
   ],
   "source": [
    "len(df)"
   ]
  },
  {
   "cell_type": "code",
   "execution_count": 8,
   "metadata": {
    "collapsed": false
   },
   "outputs": [
    {
     "data": {
      "text/plain": [
       "id                                      75000.500000\n",
       "SeriousDlqin2yrs                            0.066840\n",
       "RevolvingUtilizationOfUnsecuredLines        6.048438\n",
       "age                                        52.295207\n",
       "NumberOfTime30-59DaysPastDueNotWorse        0.421033\n",
       "DebtRatio                                 353.005076\n",
       "MonthlyIncome                            6670.221237\n",
       "NumberOfOpenCreditLinesAndLoans             8.452760\n",
       "NumberOfTimes90DaysLate                     0.265973\n",
       "NumberRealEstateLoansOrLines                1.018240\n",
       "NumberOfTime60-89DaysPastDueNotWorse        0.240387\n",
       "NumberOfDependents                          0.757222\n",
       "dtype: float64"
      ]
     },
     "execution_count": 8,
     "metadata": {},
     "output_type": "execute_result"
    }
   ],
   "source": [
    "df.mean(axis=0)"
   ]
  },
  {
   "cell_type": "code",
   "execution_count": 9,
   "metadata": {
    "collapsed": true
   },
   "outputs": [],
   "source": [
    "df.rename(columns={'SeriousDlqin2yrs':'target'}, inplace=True)\n",
    "\n",
    "features = [c for c in df.columns if c not in ['id','target']]"
   ]
  },
  {
   "cell_type": "markdown",
   "metadata": {},
   "source": [
    "#  \n",
    "# Replacing NANs"
   ]
  },
  {
   "cell_type": "code",
   "execution_count": 10,
   "metadata": {
    "collapsed": false
   },
   "outputs": [
    {
     "name": "stdout",
     "output_type": "stream",
     "text": [
      "('MonthlyIncome', 29731, 0.19820666666666667)\n",
      "('NumberOfDependents', 3924, 0.02616)\n"
     ]
    }
   ],
   "source": [
    "for c in df.columns:\n",
    "    nan_count = len(df[df[c].isnull()])\n",
    "    if nan_count>0:\n",
    "        print(c, nan_count, 1.0*nan_count/len(df))"
   ]
  },
  {
   "cell_type": "code",
   "execution_count": 11,
   "metadata": {
    "collapsed": false
   },
   "outputs": [
    {
     "name": "stdout",
     "output_type": "stream",
     "text": [
      "0.0\n",
      "0.0\n"
     ]
    }
   ],
   "source": [
    "print(min(df['MonthlyIncome']))\n",
    "print(min(df['NumberOfDependents']))"
   ]
  },
  {
   "cell_type": "code",
   "execution_count": 12,
   "metadata": {
    "collapsed": false
   },
   "outputs": [],
   "source": [
    "df = df.fillna(-1)"
   ]
  },
  {
   "cell_type": "markdown",
   "metadata": {},
   "source": [
    "#  \n",
    "# Functions"
   ]
  },
  {
   "cell_type": "code",
   "execution_count": 38,
   "metadata": {
    "collapsed": false
   },
   "outputs": [],
   "source": [
    "def getResultsWithCV(dataframe, \n",
    "                     clf, \n",
    "                     target_column, \n",
    "                     features, \n",
    "                     folds=5, \n",
    "                     balance_classes=False, \n",
    "                     balancing_factor=3):\n",
    "\n",
    "    kf = StratifiedKFold(y=dataframe[target_column], \n",
    "                           n_folds=folds, \n",
    "                           shuffle=True,\n",
    "                           random_state=42)\n",
    "    \n",
    "    if list(dataframe.index.values) != list(range(len(dataframe))):\n",
    "        print(\"ERROR WITH INDEX\")\n",
    "        return 0\n",
    "  \n",
    "    AUCs = [] \n",
    "    for train_index, test_index in kf:\n",
    "         \n",
    "        # Train the model\n",
    "        dataframe_train = dataframe.iloc[train_index]\n",
    "        if balance_classes==True:\n",
    "            class_1_samples = len(dataframe_train[dataframe_train[target_column]==1])\n",
    "            dataframe_train = pd.concat([dataframe_train[dataframe_train[target_column]==0].sample(n=int(class_1_samples*balancing_factor)),\n",
    "                                         dataframe_train[dataframe_train[target_column]==1]])     \n",
    "        X_train = dataframe_train[features].values\n",
    "        y_train = dataframe_train[target_column].values     \n",
    "        clf.fit(X_train, y_train)\n",
    "               \n",
    "        # Calculate the predictions\n",
    "        dataframe_test = dataframe.iloc[test_index]\n",
    "        X_test = dataframe_test[features].values\n",
    "        y_test = dataframe_test[target_column].values   \n",
    "        \n",
    "        \n",
    "        predictions_proba = clf.predict_proba(X_test)[:,1]\n",
    "        dataframe.loc[test_index, 'prediction_proba'] = predictions_proba\n",
    "      \n",
    "        fold_auc = metrics.roc_auc_score(y_test,predictions_proba)\n",
    "        AUCs.append(fold_auc)\n",
    "\n",
    "        #print( round(fold_auc,4))\n",
    "    return( np.mean(AUCs), np.std(AUCs))"
   ]
  },
  {
   "cell_type": "markdown",
   "metadata": {},
   "source": [
    "#  \n",
    "# Boost - no features scaling"
   ]
  },
  {
   "cell_type": "code",
   "execution_count": 35,
   "metadata": {
    "collapsed": true
   },
   "outputs": [],
   "source": [
    "features = [c for c in df.columns if c not in ['id','target']]"
   ]
  },
  {
   "cell_type": "code",
   "execution_count": 36,
   "metadata": {
    "collapsed": false
   },
   "outputs": [],
   "source": [
    "n_estimators = [100,150,200,250,300]\n",
    "learning_rates = [0.05, 0.1,  0.2]\n",
    "max_depths = [1,2,3,5]\n",
    "min_impurity_splits = [(1e-7)/2,1e-7,(1e-7)*2]\n",
    "class_balancing_factors = [0.5,0.8,1,1.2,2,3,5,10]"
   ]
  },
  {
   "cell_type": "code",
   "execution_count": null,
   "metadata": {
    "collapsed": false
   },
   "outputs": [
    {
     "name": "stdout",
     "output_type": "stream",
     "text": [
      " (100, 0.05, 1, 5e-08, 0.5) (0.85551392756639133, 0.0052833283923950734)\n",
      "(100, 0.05, 1, 5e-08, 0.8) (0.85415757874483877, 0.0053779920009552175)\n",
      "(100, 0.05, 1, 5e-08, 1) (0.85321473109436852, 0.0054185813843880279)\n",
      "(100, 0.05, 1, 5e-08, 1.2) (0.8527863247899875, 0.0068266889950079537)\n",
      "(100, 0.05, 1, 5e-08, 2) (0.85127337945687953, 0.0073066644582205492)\n",
      "(100, 0.05, 1, 5e-08, 3) (0.85142266385285192, 0.0091345949310360705)\n",
      "(100, 0.05, 1, 5e-08, 5) (0.85019507836443642, 0.010833294673419182)\n",
      "(100, 0.05, 1, 5e-08, 10) (0.84804866331026463, 0.0097442078107728182)\n",
      "(100, 0.05, 1, 1e-07, 0.5) (0.84305872464618881, 0.010452852203692497)\n",
      "(100, 0.05, 1, 1e-07, 0.8) (0.8428615698125691, 0.013398040455447341)\n",
      "(100, 0.05, 1, 1e-07, 1) (0.84279705354092227, 0.014936491667650358)\n",
      "(100, 0.05, 1, 1e-07, 1.2) (0.84155694094055067, 0.015613179265341831)\n",
      "(100, 0.05, 1, 1e-07, 2) (0.84178733610372924, 0.016228864985364893)\n",
      "(100, 0.05, 1, 1e-07, 3) (0.84585072370939007, 0.010306223876653206)\n",
      "(100, 0.05, 1, 1e-07, 5) (0.84878360234975003, 0.0068453054396532447)\n",
      "(100, 0.05, 1, 1e-07, 10) (0.8487250160043921, 0.0086883197159320739)\n",
      "(100, 0.05, 1, 2e-07, 0.5) (0.834461457675722, 0.027573831212982028)\n",
      "(100, 0.05, 1, 2e-07, 0.8) (0.84192323317352658, 0.015212680016272772)\n",
      "(100, 0.05, 1, 2e-07, 1) (0.84004187617772108, 0.017409516591161873)\n",
      "(100, 0.05, 1, 2e-07, 1.2) (0.83866710514775522, 0.020154635532577837)\n",
      "(100, 0.05, 1, 2e-07, 2) (0.84253240630215576, 0.012822191062444258)\n",
      "(100, 0.05, 1, 2e-07, 3) (0.84307652946484946, 0.012183584224686995)\n",
      "(100, 0.05, 1, 2e-07, 5) (0.84586751848019381, 0.0080164903347318978)\n",
      "(100, 0.05, 1, 2e-07, 10) (0.84677997384357018, 0.0079926113466478425)\n",
      "(100, 0.05, 2, 5e-08, 0.5) (0.83247418741735557, 0.045140646248742367)\n",
      "(100, 0.05, 2, 5e-08, 0.8) (0.83951399745691702, 0.035653006627867752)\n",
      "(100, 0.05, 2, 5e-08, 1) (0.8407072303112425, 0.032667162787857106)\n",
      "(100, 0.05, 2, 5e-08, 1.2) (0.84618353233479926, 0.021189434675283895)\n",
      "(100, 0.05, 2, 5e-08, 2) (0.84851690563568005, 0.016024412217282617)\n",
      "(100, 0.05, 2, 5e-08, 3) (0.85111262785177999, 0.010285268964707108)\n",
      "(100, 0.05, 2, 5e-08, 5) (0.85271242215788479, 0.0083138575085914719)\n",
      "(100, 0.05, 2, 5e-08, 10) (0.85357911004406795, 0.0080929897864174434)\n",
      "(100, 0.05, 2, 1e-07, 0.5) (0.84286859966406991, 0.024402341222766889)\n",
      "(100, 0.05, 2, 1e-07, 0.8) (0.84639107430566995, 0.02151352485010417)\n",
      "(100, 0.05, 2, 1e-07, 1) (0.8462422954163088, 0.023193818811625078)\n",
      "(100, 0.05, 2, 1e-07, 1.2) (0.8463504901788802, 0.023106796004020973)\n",
      "(100, 0.05, 2, 1e-07, 2) (0.84881501882558774, 0.018526487390503929)\n",
      "(100, 0.05, 2, 1e-07, 3) (0.85025563029532414, 0.014079459603796734)\n",
      "(100, 0.05, 2, 1e-07, 5) (0.85243819213814453, 0.0090363769959035892)\n",
      "(100, 0.05, 2, 1e-07, 10) (0.85420939526721829, 0.007048905292050634)\n",
      "(100, 0.05, 2, 2e-07, 0.5) (0.84951399156970042, 0.0137290617043645)\n",
      "(100, 0.05, 2, 2e-07, 0.8) (0.8482527889296676, 0.019346257368343597)\n",
      "(100, 0.05, 2, 2e-07, 1) (0.84892625128202259, 0.01770838357681747)\n",
      "(100, 0.05, 2, 2e-07, 1.2) (0.84792882756334653, 0.019940870394006934)\n",
      "(100, 0.05, 2, 2e-07, 2) (0.8485702833309311, 0.017883814309909492)\n",
      "(100, 0.05, 2, 2e-07, 3) (0.84994709863675855, 0.014117646405157554)\n",
      "(100, 0.05, 2, 2e-07, 5) (0.85051048813866381, 0.012098705995804553)\n",
      "(100, 0.05, 2, 2e-07, 10) (0.8531738860298862, 0.0082855126747082772)\n",
      "(100, 0.05, 3, 5e-08, 0.5) (0.84661008877304589, 0.023802238394402001)\n",
      "(100, 0.05, 3, 5e-08, 0.8) (0.85528602092311168, 0.011172466055734642)\n",
      "(100, 0.05, 3, 5e-08, 1) (0.85516823032041533, 0.011077618930684072)\n",
      "(100, 0.05, 3, 5e-08, 1.2) (0.8558093032249362, 0.0090732345048747248)\n",
      "(100, 0.05, 3, 5e-08, 2) (0.85742857554813479, 0.0065039689739064483)\n",
      "(100, 0.05, 3, 5e-08, 3) (0.85823139035321783, 0.0057239300915208555)\n",
      "(100, 0.05, 3, 5e-08, 5) (0.85856901443391109, 0.0055338865258984871)\n",
      "(100, 0.05, 3, 5e-08, 10) (0.85857357252800282, 0.0059146681196295603)\n",
      "(100, 0.05, 3, 1e-07, 0.5) (0.85465139863695805, 0.0094372943155892116)\n",
      "(100, 0.05, 3, 1e-07, 0.8) (0.85412489040496309, 0.01341015482294701)\n",
      "(100, 0.05, 3, 1e-07, 1) (0.85492656173694692, 0.013063541945783632)\n",
      "(100, 0.05, 3, 1e-07, 1.2) (0.85725720315968812, 0.0086571716222609181)\n",
      "(100, 0.05, 3, 1e-07, 2) (0.85744990576828251, 0.0075072871849169035)\n",
      "(100, 0.05, 3, 1e-07, 3) (0.85830189214446073, 0.0062295889208676359)\n",
      "(100, 0.05, 3, 1e-07, 5) (0.85805395360614978, 0.0053723946302705588)\n",
      "(100, 0.05, 3, 1e-07, 10) (0.85868245863591786, 0.0057079163534825457)\n",
      "(100, 0.05, 3, 2e-07, 0.5) (0.85526248342724265, 0.007880339844396839)\n",
      "(100, 0.05, 3, 2e-07, 0.8) (0.85614908901721132, 0.0086632382726152396)\n",
      "(100, 0.05, 3, 2e-07, 1) (0.85739542450764417, 0.0076702026730783163)\n",
      "(100, 0.05, 3, 2e-07, 1.2) (0.85698794876482687, 0.0076577288183881254)\n",
      "(100, 0.05, 3, 2e-07, 2) (0.85769886716993893, 0.0066072808796738903)\n",
      "(100, 0.05, 3, 2e-07, 3) (0.85866576910077619, 0.0059822658535171559)\n",
      "(100, 0.05, 3, 2e-07, 5) (0.85900078622286247, 0.0062948976676215013)\n",
      "(100, 0.05, 3, 2e-07, 10) (0.85886137767088577, 0.0058683894056141481)\n",
      "(100, 0.05, 5, 5e-08, 0.5) (0.85269560436880132, 0.010738267797388863)\n",
      "(100, 0.05, 5, 5e-08, 0.8) (0.85740895721352639, 0.0075015931036598576)\n",
      "(100, 0.05, 5, 5e-08, 1) (0.85926899343401364, 0.0062842362090916514)\n",
      "(100, 0.05, 5, 5e-08, 1.2) (0.85932651914478964, 0.0054003670688181496)\n",
      "(100, 0.05, 5, 5e-08, 2) (0.86026988792677395, 0.0059128060293066071)\n",
      "(100, 0.05, 5, 5e-08, 3) (0.86030348252874556, 0.0054395718620322778)\n",
      "(100, 0.05, 5, 5e-08, 5) (0.86085225550391153, 0.0053051083750404486)\n",
      "(100, 0.05, 5, 5e-08, 10) (0.86086873268275066, 0.00563557607059009)\n",
      "(100, 0.05, 5, 1e-07, 0.5) (0.85460546484422717, 0.0087700952437319082)\n",
      "(100, 0.05, 5, 1e-07, 0.8) (0.85775212598518902, 0.0064108856158989116)\n",
      "(100, 0.05, 5, 1e-07, 1) (0.85845762685272253, 0.0048235943251489985)\n",
      "(100, 0.05, 5, 1e-07, 1.2) (0.85872350974978617, 0.00546030148686193)\n",
      "(100, 0.05, 5, 1e-07, 2) (0.85928793887496757, 0.0052319563619630319)\n",
      "(100, 0.05, 5, 1e-07, 3) (0.86023097819042571, 0.0053904068482217718)\n",
      "(100, 0.05, 5, 1e-07, 5) (0.86064160009391377, 0.0056535420907562785)\n",
      "(100, 0.05, 5, 1e-07, 10) (0.86082781272456133, 0.005567275635923811)\n",
      "(100, 0.05, 5, 2e-07, 0.5) (0.85053504841860517, 0.012363024059595737)\n",
      "(100, 0.05, 5, 2e-07, 0.8) (0.85748699486429614, 0.0076306018257056886)\n",
      "(100, 0.05, 5, 2e-07, 1) (0.85916433173832663, 0.0065291938656028376)\n",
      "(100, 0.05, 5, 2e-07, 1.2) (0.85940334591130774, 0.0062393467583099745)\n",
      "(100, 0.05, 5, 2e-07, 2) (0.86012162779479839, 0.0065742375673805099)\n",
      "(100, 0.05, 5, 2e-07, 3) (0.86005951829218019, 0.0060407211238871425)\n",
      "(100, 0.05, 5, 2e-07, 5) (0.8606491652140813, 0.0055150818188974392)\n",
      "(100, 0.05, 5, 2e-07, 10) (0.86007137000016221, 0.0061670848357657168)\n",
      "(100, 0.1, 1, 5e-08, 0.5) (0.85214430166794752, 0.01162050931531944)\n",
      "(100, 0.1, 1, 5e-08, 0.8) (0.8520103670152519, 0.010855286308042977)\n",
      "(100, 0.1, 1, 5e-08, 1) (0.85107740550108935, 0.011445728373252636)\n",
      "(100, 0.1, 1, 5e-08, 1.2) (0.85090501612525848, 0.011575865232381246)\n",
      "(100, 0.1, 1, 5e-08, 2) (0.85090870936339402, 0.011217385821018774)\n",
      "(100, 0.1, 1, 5e-08, 3) (0.84985384934949693, 0.012300133663129912)\n",
      "(100, 0.1, 1, 5e-08, 5) (0.85202778035381976, 0.007934253305068327)\n",
      "(100, 0.1, 1, 5e-08, 10) (0.85137006480234478, 0.0067815171766809901)\n",
      "(100, 0.1, 1, 1e-07, 0.5) (0.84365967648665685, 0.021594588833148201)\n",
      "(100, 0.1, 1, 1e-07, 0.8) (0.84711255801657992, 0.015502577747469775)\n",
      "(100, 0.1, 1, 1e-07, 1) (0.84486660453551221, 0.019766969175031623)\n",
      "(100, 0.1, 1, 1e-07, 1.2) (0.84527788281690963, 0.019953206330088957)\n",
      "(100, 0.1, 1, 1e-07, 2) (0.84664510407321369, 0.016830801370075119)\n",
      "(100, 0.1, 1, 1e-07, 3) (0.84518735409338253, 0.017377732256539144)\n",
      "(100, 0.1, 1, 1e-07, 5) (0.84420136051395533, 0.017739572870716331)\n",
      "(100, 0.1, 1, 1e-07, 10) (0.84799908668582535, 0.0093211343126404396)\n",
      "(100, 0.1, 1, 2e-07, 0.5) (0.83996394738629154, 0.027462866241858064)\n",
      "(100, 0.1, 1, 2e-07, 0.8) (0.84121229235255723, 0.026599376837221637)\n",
      "(100, 0.1, 1, 2e-07, 1) (0.84378255988970918, 0.020443076911418178)\n",
      "(100, 0.1, 1, 2e-07, 1.2) (0.84235175849898847, 0.024162399715741734)\n",
      "(100, 0.1, 1, 2e-07, 2) (0.84561499049417144, 0.017212308761538179)\n",
      "(100, 0.1, 1, 2e-07, 3) (0.84548757832204657, 0.016507579389854237)\n",
      "(100, 0.1, 1, 2e-07, 5) (0.84468459235464943, 0.016274813182862131)\n",
      "(100, 0.1, 1, 2e-07, 10) (0.84935426037033557, 0.0087199069196975433)\n",
      "(100, 0.1, 2, 5e-08, 0.5) (0.83860953839757679, 0.04176188890039615)\n",
      "(100, 0.1, 2, 5e-08, 0.8) (0.85722997713039606, 0.0087229676797293057)\n",
      "(100, 0.1, 2, 5e-08, 1) (0.8568805578863099, 0.010424869070274772)\n",
      "(100, 0.1, 2, 5e-08, 1.2) (0.85692262778885819, 0.0097556479570686545)\n",
      "(100, 0.1, 2, 5e-08, 2) (0.8581302728754242, 0.007794834437349657)\n",
      "(100, 0.1, 2, 5e-08, 3) (0.85785486667891997, 0.0070672434286563777)\n",
      "(100, 0.1, 2, 5e-08, 5) (0.85760087533682294, 0.0067228658727274898)\n",
      "(100, 0.1, 2, 5e-08, 10) (0.85762001925547637, 0.0065291258602430046)\n",
      "(100, 0.1, 2, 1e-07, 0.5) (0.85563897822079882, 0.0095345443279355579)\n",
      "(100, 0.1, 2, 1e-07, 0.8) (0.85290403413928462, 0.016678282621744311)\n",
      "(100, 0.1, 2, 1e-07, 1) (0.85266590572261036, 0.017237167002510861)\n",
      "(100, 0.1, 2, 1e-07, 1.2) (0.8524048517871986, 0.018178483147402478)\n",
      "(100, 0.1, 2, 1e-07, 2) (0.85530401450651916, 0.011376074902937594)\n",
      "(100, 0.1, 2, 1e-07, 3) (0.85626679094764424, 0.0094946084907041352)\n",
      "(100, 0.1, 2, 1e-07, 5) (0.85657618152182236, 0.0073951841060787716)\n",
      "(100, 0.1, 2, 1e-07, 10) (0.85777928309386231, 0.0069343896878815885)\n",
      "(100, 0.1, 2, 2e-07, 0.5) (0.85352846415903794, 0.012183607776010215)\n",
      "(100, 0.1, 2, 2e-07, 0.8) (0.85282208354554512, 0.015509388031782177)\n",
      "(100, 0.1, 2, 2e-07, 1) (0.85420294743440994, 0.014674121321126018)\n",
      "(100, 0.1, 2, 2e-07, 1.2) (0.85362625068517972, 0.013628456986255253)\n",
      "(100, 0.1, 2, 2e-07, 2) (0.85462330408727039, 0.012203563872335703)\n",
      "(100, 0.1, 2, 2e-07, 3) (0.85590901380230378, 0.0097425545261276749)\n",
      "(100, 0.1, 2, 2e-07, 5) (0.8563790055606384, 0.0077471492665802796)\n",
      "(100, 0.1, 2, 2e-07, 10) (0.85717228423114167, 0.0068797196795569952)\n",
      "(100, 0.1, 3, 5e-08, 0.5) (0.85243159191272766, 0.011346026632241348)\n",
      "(100, 0.1, 3, 5e-08, 0.8) (0.85759732298738389, 0.0072004098833922696)\n",
      "(100, 0.1, 3, 5e-08, 1) (0.85869110242414382, 0.0058311797550734505)\n",
      "(100, 0.1, 3, 5e-08, 1.2) (0.85911485164082391, 0.005563017729083547)\n",
      "(100, 0.1, 3, 5e-08, 2) (0.8598666489058937, 0.0057066962717670375)\n",
      "(100, 0.1, 3, 5e-08, 3) (0.86021525237516561, 0.0060716336585410445)\n",
      "(100, 0.1, 3, 5e-08, 5) (0.86044395515079442, 0.0066104338667844955)\n",
      "(100, 0.1, 3, 5e-08, 10) (0.8605427563906709, 0.0064793554591529865)\n",
      "(100, 0.1, 3, 1e-07, 0.5) (0.81895581462264178, 0.076644980249999661)\n",
      "(100, 0.1, 3, 1e-07, 0.8) (0.82882711877837578, 0.065876385436820992)\n",
      "(100, 0.1, 3, 1e-07, 1) (0.83201197823924178, 0.05915737270201888)\n",
      "(100, 0.1, 3, 1e-07, 1.2) (0.83389409005173454, 0.056446466431657273)\n",
      "(100, 0.1, 3, 1e-07, 2) (0.83628854013509346, 0.051048613946037651)\n",
      "(100, 0.1, 3, 1e-07, 3) (0.84178842958905642, 0.040825749048639517)\n",
      "(100, 0.1, 3, 1e-07, 5) (0.84489437348613394, 0.034525137382585495)\n",
      "(100, 0.1, 3, 1e-07, 10) (0.84636362232849238, 0.03142440624850714)\n",
      "(100, 0.1, 3, 2e-07, 0.5) (0.85307261147222613, 0.013950887783138412)\n",
      "(100, 0.1, 3, 2e-07, 0.8) (0.85642096256971489, 0.010233344608565259)\n",
      "(100, 0.1, 3, 2e-07, 1) (0.85703521896154111, 0.0091456450757316267)\n",
      "(100, 0.1, 3, 2e-07, 1.2) (0.85712598833438047, 0.0089662283206419242)\n",
      "(100, 0.1, 3, 2e-07, 2) (0.85753934743257343, 0.0087472352896106158)\n",
      "(100, 0.1, 3, 2e-07, 3) "
     ]
    }
   ],
   "source": [
    "#model2meanStd = {}\n",
    "\n",
    "for n_estimator in n_estimators:\n",
    "    for learning_rate in learning_rates:\n",
    "        for max_depth in max_depths:\n",
    "            for min_impurity_split in min_impurity_splits:\n",
    "                for class_balancing_factor in class_balancing_factors:\n",
    "                    print(n_estimator,learning_rate,max_depth,min_impurity_split,class_balancing_factor),\n",
    "                    model = GradientBoostingClassifier(n_estimators=n_estimator,\n",
    "                                                       learning_rate=learning_rate,\n",
    "                                                       max_depth=max_depth,\n",
    "                                                       min_impurity_split=min_impurity_split)\n",
    "                    (auc_mean,auc_std) = getResultsWithCV(dataframe=df, \n",
    "                                                 clf=model, \n",
    "                                                 target_column='target', \n",
    "                                                 features=features, \n",
    "                                                 folds=5, \n",
    "                                                 balance_classes=True, \n",
    "                                                 balancing_factor=class_balancing_factor)\n",
    "                    print (auc_mean,auc_std)\n",
    "                    #model2meanStd[n_estimators] = (auc_mean,auc_std)"
   ]
  },
  {
   "cell_type": "code",
   "execution_count": 60,
   "metadata": {
    "collapsed": false
   },
   "outputs": [
    {
     "data": {
      "image/png": "[encoded data removed]",
      "text/plain": [
       "<matplotlib.figure.Figure at 0x7f8b22d8edd8>"
      ]
     },
     "metadata": {},
     "output_type": "display_data"
    }
   ],
   "source": [
    "for (estimator,results) in model2meanStd.items():\n",
    "    plt.scatter(estimator,results[0])"
   ]
  },
  {
   "cell_type": "code",
   "execution_count": 61,
   "metadata": {
    "collapsed": false
   },
   "outputs": [
    {
     "data": {
      "image/png": "[encoded data removed]",
      "text/plain": [
       "<matplotlib.figure.Figure at 0x7f8b22d4b080>"
      ]
     },
     "metadata": {},
     "output_type": "display_data"
    }
   ],
   "source": [
    "for (estimator,results) in model2meanStd.items():\n",
    "    plt.scatter(estimator,results[1]*200,c='r')"
   ]
  },
  {
   "cell_type": "markdown",
   "metadata": {},
   "source": [
    "#  \n",
    "#  \n",
    "# Generate the solution"
   ]
  },
  {
   "cell_type": "code",
   "execution_count": 62,
   "metadata": {
    "collapsed": true
   },
   "outputs": [],
   "source": [
    "df_toPredict = pd.read_csv('../../data/cs-test.csv')\n",
    "df_toPredict = df_toPredict.fillna(-1)"
   ]
  },
  {
   "cell_type": "code",
   "execution_count": 63,
   "metadata": {
    "collapsed": false
   },
   "outputs": [
    {
     "data": {
      "text/html": [
       "<div>\n",
       "<table border=\"1\" class=\"dataframe\">\n",
       "  <thead>\n",
       "    <tr style=\"text-align: right;\">\n",
       "      <th></th>\n",
       "      <th>id</th>\n",
       "    </tr>\n",
       "    <tr>\n",
       "      <th>target</th>\n",
       "      <th></th>\n",
       "    </tr>\n",
       "  </thead>\n",
       "  <tbody>\n",
       "    <tr>\n",
       "      <th>0</th>\n",
       "      <td>139974</td>\n",
       "    </tr>\n",
       "    <tr>\n",
       "      <th>1</th>\n",
       "      <td>10026</td>\n",
       "    </tr>\n",
       "  </tbody>\n",
       "</table>\n",
       "</div>"
      ],
      "text/plain": [
       "            id\n",
       "target        \n",
       "0       139974\n",
       "1        10026"
      ]
     },
     "execution_count": 63,
     "metadata": {},
     "output_type": "execute_result"
    }
   ],
   "source": [
    "df.groupby('target').count()[['id']]"
   ]
  },
  {
   "cell_type": "code",
   "execution_count": 65,
   "metadata": {
    "collapsed": true
   },
   "outputs": [],
   "source": [
    "clf = GradientBoostingClassifier(n_estimators=200)"
   ]
  },
  {
   "cell_type": "markdown",
   "metadata": {},
   "source": [
    "### Generate 10 datasets using sampling where class are balanced  and use the mean of the 10 predictions"
   ]
  },
  {
   "cell_type": "code",
   "execution_count": 66,
   "metadata": {
    "collapsed": true
   },
   "outputs": [],
   "source": [
    "df_target1 = df[df['target']==1].copy().reset_index(drop=True)\n",
    "df_target0 = df[df['target']==0].copy()"
   ]
  },
  {
   "cell_type": "code",
   "execution_count": 67,
   "metadata": {
    "collapsed": false
   },
   "outputs": [
    {
     "name": "stdout",
     "output_type": "stream",
     "text": [
      "0\n",
      "1\n",
      "2\n",
      "3\n",
      "4\n",
      "5\n",
      "6\n",
      "7\n",
      "8\n",
      "9\n"
     ]
    }
   ],
   "source": [
    "#dfs = []\n",
    "for i in range(10):\n",
    "    print(i) #just added\n",
    "    df_balanced = pd.concat([df_target1,\n",
    "                             df_target0.sample(n=len(df_target1))]).reset_index(drop=True)\n",
    "    clf.fit(df_balanced[features],\n",
    "           df_balanced['target'])\n",
    "    df_toPredict['Probability'+str(i)] = clf.predict_proba(df_toPredict[features])[:,1]\n",
    "    "
   ]
  },
  {
   "cell_type": "code",
   "execution_count": 68,
   "metadata": {
    "collapsed": false
   },
   "outputs": [
    {
     "data": {
      "text/html": [
       "<div>\n",
       "<table border=\"1\" class=\"dataframe\">\n",
       "  <thead>\n",
       "    <tr style=\"text-align: right;\">\n",
       "      <th></th>\n",
       "      <th>Unnamed: 0</th>\n",
       "      <th>SeriousDlqin2yrs</th>\n",
       "      <th>RevolvingUtilizationOfUnsecuredLines</th>\n",
       "      <th>age</th>\n",
       "      <th>NumberOfTime30-59DaysPastDueNotWorse</th>\n",
       "      <th>DebtRatio</th>\n",
       "      <th>MonthlyIncome</th>\n",
       "      <th>NumberOfOpenCreditLinesAndLoans</th>\n",
       "      <th>NumberOfTimes90DaysLate</th>\n",
       "      <th>NumberRealEstateLoansOrLines</th>\n",
       "      <th>...</th>\n",
       "      <th>Probability0</th>\n",
       "      <th>Probability1</th>\n",
       "      <th>Probability2</th>\n",
       "      <th>Probability3</th>\n",
       "      <th>Probability4</th>\n",
       "      <th>Probability5</th>\n",
       "      <th>Probability6</th>\n",
       "      <th>Probability7</th>\n",
       "      <th>Probability8</th>\n",
       "      <th>Probability9</th>\n",
       "    </tr>\n",
       "  </thead>\n",
       "  <tbody>\n",
       "    <tr>\n",
       "      <th>0</th>\n",
       "      <td>1</td>\n",
       "      <td>-1.0</td>\n",
       "      <td>0.885519</td>\n",
       "      <td>43</td>\n",
       "      <td>0</td>\n",
       "      <td>0.177513</td>\n",
       "      <td>5700.0</td>\n",
       "      <td>4</td>\n",
       "      <td>0</td>\n",
       "      <td>0</td>\n",
       "      <td>...</td>\n",
       "      <td>0.497515</td>\n",
       "      <td>0.484593</td>\n",
       "      <td>0.514760</td>\n",
       "      <td>0.512758</td>\n",
       "      <td>0.468555</td>\n",
       "      <td>0.541621</td>\n",
       "      <td>0.516301</td>\n",
       "      <td>0.505471</td>\n",
       "      <td>0.492174</td>\n",
       "      <td>0.538217</td>\n",
       "    </tr>\n",
       "    <tr>\n",
       "      <th>1</th>\n",
       "      <td>2</td>\n",
       "      <td>-1.0</td>\n",
       "      <td>0.463295</td>\n",
       "      <td>57</td>\n",
       "      <td>0</td>\n",
       "      <td>0.527237</td>\n",
       "      <td>9141.0</td>\n",
       "      <td>15</td>\n",
       "      <td>0</td>\n",
       "      <td>4</td>\n",
       "      <td>...</td>\n",
       "      <td>0.479280</td>\n",
       "      <td>0.454399</td>\n",
       "      <td>0.357787</td>\n",
       "      <td>0.423093</td>\n",
       "      <td>0.454664</td>\n",
       "      <td>0.374319</td>\n",
       "      <td>0.513709</td>\n",
       "      <td>0.374143</td>\n",
       "      <td>0.455867</td>\n",
       "      <td>0.406493</td>\n",
       "    </tr>\n",
       "    <tr>\n",
       "      <th>2</th>\n",
       "      <td>3</td>\n",
       "      <td>-1.0</td>\n",
       "      <td>0.043275</td>\n",
       "      <td>59</td>\n",
       "      <td>0</td>\n",
       "      <td>0.687648</td>\n",
       "      <td>5083.0</td>\n",
       "      <td>12</td>\n",
       "      <td>0</td>\n",
       "      <td>1</td>\n",
       "      <td>...</td>\n",
       "      <td>0.134342</td>\n",
       "      <td>0.147749</td>\n",
       "      <td>0.156626</td>\n",
       "      <td>0.153177</td>\n",
       "      <td>0.136374</td>\n",
       "      <td>0.141616</td>\n",
       "      <td>0.145873</td>\n",
       "      <td>0.172736</td>\n",
       "      <td>0.173187</td>\n",
       "      <td>0.141362</td>\n",
       "    </tr>\n",
       "    <tr>\n",
       "      <th>3</th>\n",
       "      <td>4</td>\n",
       "      <td>-1.0</td>\n",
       "      <td>0.280308</td>\n",
       "      <td>38</td>\n",
       "      <td>1</td>\n",
       "      <td>0.925961</td>\n",
       "      <td>3200.0</td>\n",
       "      <td>7</td>\n",
       "      <td>0</td>\n",
       "      <td>2</td>\n",
       "      <td>...</td>\n",
       "      <td>0.554288</td>\n",
       "      <td>0.541085</td>\n",
       "      <td>0.561594</td>\n",
       "      <td>0.566923</td>\n",
       "      <td>0.565656</td>\n",
       "      <td>0.555151</td>\n",
       "      <td>0.557026</td>\n",
       "      <td>0.554870</td>\n",
       "      <td>0.527672</td>\n",
       "      <td>0.555432</td>\n",
       "    </tr>\n",
       "    <tr>\n",
       "      <th>4</th>\n",
       "      <td>5</td>\n",
       "      <td>-1.0</td>\n",
       "      <td>1.000000</td>\n",
       "      <td>27</td>\n",
       "      <td>0</td>\n",
       "      <td>0.019917</td>\n",
       "      <td>3865.0</td>\n",
       "      <td>4</td>\n",
       "      <td>0</td>\n",
       "      <td>0</td>\n",
       "      <td>...</td>\n",
       "      <td>0.624148</td>\n",
       "      <td>0.585709</td>\n",
       "      <td>0.614193</td>\n",
       "      <td>0.641473</td>\n",
       "      <td>0.594752</td>\n",
       "      <td>0.617336</td>\n",
       "      <td>0.680067</td>\n",
       "      <td>0.624035</td>\n",
       "      <td>0.609328</td>\n",
       "      <td>0.572535</td>\n",
       "    </tr>\n",
       "  </tbody>\n",
       "</table>\n",
       "<p>5 rows × 22 columns</p>\n",
       "</div>"
      ],
      "text/plain": [
       "   Unnamed: 0  SeriousDlqin2yrs  RevolvingUtilizationOfUnsecuredLines  age  \\\n",
       "0           1              -1.0                              0.885519   43   \n",
       "1           2              -1.0                              0.463295   57   \n",
       "2           3              -1.0                              0.043275   59   \n",
       "3           4              -1.0                              0.280308   38   \n",
       "4           5              -1.0                              1.000000   27   \n",
       "\n",
       "   NumberOfTime30-59DaysPastDueNotWorse  DebtRatio  MonthlyIncome  \\\n",
       "0                                     0   0.177513         5700.0   \n",
       "1                                     0   0.527237         9141.0   \n",
       "2                                     0   0.687648         5083.0   \n",
       "3                                     1   0.925961         3200.0   \n",
       "4                                     0   0.019917         3865.0   \n",
       "\n",
       "   NumberOfOpenCreditLinesAndLoans  NumberOfTimes90DaysLate  \\\n",
       "0                                4                        0   \n",
       "1                               15                        0   \n",
       "2                               12                        0   \n",
       "3                                7                        0   \n",
       "4                                4                        0   \n",
       "\n",
       "   NumberRealEstateLoansOrLines      ...       Probability0  Probability1  \\\n",
       "0                             0      ...           0.497515      0.484593   \n",
       "1                             4      ...           0.479280      0.454399   \n",
       "2                             1      ...           0.134342      0.147749   \n",
       "3                             2      ...           0.554288      0.541085   \n",
       "4                             0      ...           0.624148      0.585709   \n",
       "\n",
       "   Probability2  Probability3  Probability4  Probability5  Probability6  \\\n",
       "0      0.514760      0.512758      0.468555      0.541621      0.516301   \n",
       "1      0.357787      0.423093      0.454664      0.374319      0.513709   \n",
       "2      0.156626      0.153177      0.136374      0.141616      0.145873   \n",
       "3      0.561594      0.566923      0.565656      0.555151      0.557026   \n",
       "4      0.614193      0.641473      0.594752      0.617336      0.680067   \n",
       "\n",
       "   Probability7  Probability8  Probability9  \n",
       "0      0.505471      0.492174      0.538217  \n",
       "1      0.374143      0.455867      0.406493  \n",
       "2      0.172736      0.173187      0.141362  \n",
       "3      0.554870      0.527672      0.555432  \n",
       "4      0.624035      0.609328      0.572535  \n",
       "\n",
       "[5 rows x 22 columns]"
      ]
     },
     "execution_count": 68,
     "metadata": {},
     "output_type": "execute_result"
    }
   ],
   "source": [
    "df_toPredict.head()"
   ]
  },
  {
   "cell_type": "code",
   "execution_count": 69,
   "metadata": {
    "collapsed": false
   },
   "outputs": [],
   "source": [
    "df_toPredict['Probability'] = df_toPredict[['Probability'+str(i) for i in range(10)]].mean(axis=1)"
   ]
  },
  {
   "cell_type": "code",
   "execution_count": 70,
   "metadata": {
    "collapsed": false
   },
   "outputs": [
    {
     "data": {
      "text/html": [
       "<div>\n",
       "<table border=\"1\" class=\"dataframe\">\n",
       "  <thead>\n",
       "    <tr style=\"text-align: right;\">\n",
       "      <th></th>\n",
       "      <th>Unnamed: 0</th>\n",
       "      <th>SeriousDlqin2yrs</th>\n",
       "      <th>RevolvingUtilizationOfUnsecuredLines</th>\n",
       "      <th>age</th>\n",
       "      <th>NumberOfTime30-59DaysPastDueNotWorse</th>\n",
       "      <th>DebtRatio</th>\n",
       "      <th>MonthlyIncome</th>\n",
       "      <th>NumberOfOpenCreditLinesAndLoans</th>\n",
       "      <th>NumberOfTimes90DaysLate</th>\n",
       "      <th>NumberRealEstateLoansOrLines</th>\n",
       "      <th>...</th>\n",
       "      <th>Probability1</th>\n",
       "      <th>Probability2</th>\n",
       "      <th>Probability3</th>\n",
       "      <th>Probability4</th>\n",
       "      <th>Probability5</th>\n",
       "      <th>Probability6</th>\n",
       "      <th>Probability7</th>\n",
       "      <th>Probability8</th>\n",
       "      <th>Probability9</th>\n",
       "      <th>Probability</th>\n",
       "    </tr>\n",
       "  </thead>\n",
       "  <tbody>\n",
       "    <tr>\n",
       "      <th>0</th>\n",
       "      <td>1</td>\n",
       "      <td>-1.0</td>\n",
       "      <td>0.885519</td>\n",
       "      <td>43</td>\n",
       "      <td>0</td>\n",
       "      <td>0.177513</td>\n",
       "      <td>5700.0</td>\n",
       "      <td>4</td>\n",
       "      <td>0</td>\n",
       "      <td>0</td>\n",
       "      <td>...</td>\n",
       "      <td>0.484593</td>\n",
       "      <td>0.514760</td>\n",
       "      <td>0.512758</td>\n",
       "      <td>0.468555</td>\n",
       "      <td>0.541621</td>\n",
       "      <td>0.516301</td>\n",
       "      <td>0.505471</td>\n",
       "      <td>0.492174</td>\n",
       "      <td>0.538217</td>\n",
       "      <td>0.507196</td>\n",
       "    </tr>\n",
       "    <tr>\n",
       "      <th>1</th>\n",
       "      <td>2</td>\n",
       "      <td>-1.0</td>\n",
       "      <td>0.463295</td>\n",
       "      <td>57</td>\n",
       "      <td>0</td>\n",
       "      <td>0.527237</td>\n",
       "      <td>9141.0</td>\n",
       "      <td>15</td>\n",
       "      <td>0</td>\n",
       "      <td>4</td>\n",
       "      <td>...</td>\n",
       "      <td>0.454399</td>\n",
       "      <td>0.357787</td>\n",
       "      <td>0.423093</td>\n",
       "      <td>0.454664</td>\n",
       "      <td>0.374319</td>\n",
       "      <td>0.513709</td>\n",
       "      <td>0.374143</td>\n",
       "      <td>0.455867</td>\n",
       "      <td>0.406493</td>\n",
       "      <td>0.429375</td>\n",
       "    </tr>\n",
       "    <tr>\n",
       "      <th>2</th>\n",
       "      <td>3</td>\n",
       "      <td>-1.0</td>\n",
       "      <td>0.043275</td>\n",
       "      <td>59</td>\n",
       "      <td>0</td>\n",
       "      <td>0.687648</td>\n",
       "      <td>5083.0</td>\n",
       "      <td>12</td>\n",
       "      <td>0</td>\n",
       "      <td>1</td>\n",
       "      <td>...</td>\n",
       "      <td>0.147749</td>\n",
       "      <td>0.156626</td>\n",
       "      <td>0.153177</td>\n",
       "      <td>0.136374</td>\n",
       "      <td>0.141616</td>\n",
       "      <td>0.145873</td>\n",
       "      <td>0.172736</td>\n",
       "      <td>0.173187</td>\n",
       "      <td>0.141362</td>\n",
       "      <td>0.150304</td>\n",
       "    </tr>\n",
       "    <tr>\n",
       "      <th>3</th>\n",
       "      <td>4</td>\n",
       "      <td>-1.0</td>\n",
       "      <td>0.280308</td>\n",
       "      <td>38</td>\n",
       "      <td>1</td>\n",
       "      <td>0.925961</td>\n",
       "      <td>3200.0</td>\n",
       "      <td>7</td>\n",
       "      <td>0</td>\n",
       "      <td>2</td>\n",
       "      <td>...</td>\n",
       "      <td>0.541085</td>\n",
       "      <td>0.561594</td>\n",
       "      <td>0.566923</td>\n",
       "      <td>0.565656</td>\n",
       "      <td>0.555151</td>\n",
       "      <td>0.557026</td>\n",
       "      <td>0.554870</td>\n",
       "      <td>0.527672</td>\n",
       "      <td>0.555432</td>\n",
       "      <td>0.553970</td>\n",
       "    </tr>\n",
       "    <tr>\n",
       "      <th>4</th>\n",
       "      <td>5</td>\n",
       "      <td>-1.0</td>\n",
       "      <td>1.000000</td>\n",
       "      <td>27</td>\n",
       "      <td>0</td>\n",
       "      <td>0.019917</td>\n",
       "      <td>3865.0</td>\n",
       "      <td>4</td>\n",
       "      <td>0</td>\n",
       "      <td>0</td>\n",
       "      <td>...</td>\n",
       "      <td>0.585709</td>\n",
       "      <td>0.614193</td>\n",
       "      <td>0.641473</td>\n",
       "      <td>0.594752</td>\n",
       "      <td>0.617336</td>\n",
       "      <td>0.680067</td>\n",
       "      <td>0.624035</td>\n",
       "      <td>0.609328</td>\n",
       "      <td>0.572535</td>\n",
       "      <td>0.616358</td>\n",
       "    </tr>\n",
       "  </tbody>\n",
       "</table>\n",
       "<p>5 rows × 23 columns</p>\n",
       "</div>"
      ],
      "text/plain": [
       "   Unnamed: 0  SeriousDlqin2yrs  RevolvingUtilizationOfUnsecuredLines  age  \\\n",
       "0           1              -1.0                              0.885519   43   \n",
       "1           2              -1.0                              0.463295   57   \n",
       "2           3              -1.0                              0.043275   59   \n",
       "3           4              -1.0                              0.280308   38   \n",
       "4           5              -1.0                              1.000000   27   \n",
       "\n",
       "   NumberOfTime30-59DaysPastDueNotWorse  DebtRatio  MonthlyIncome  \\\n",
       "0                                     0   0.177513         5700.0   \n",
       "1                                     0   0.527237         9141.0   \n",
       "2                                     0   0.687648         5083.0   \n",
       "3                                     1   0.925961         3200.0   \n",
       "4                                     0   0.019917         3865.0   \n",
       "\n",
       "   NumberOfOpenCreditLinesAndLoans  NumberOfTimes90DaysLate  \\\n",
       "0                                4                        0   \n",
       "1                               15                        0   \n",
       "2                               12                        0   \n",
       "3                                7                        0   \n",
       "4                                4                        0   \n",
       "\n",
       "   NumberRealEstateLoansOrLines     ...       Probability1  Probability2  \\\n",
       "0                             0     ...           0.484593      0.514760   \n",
       "1                             4     ...           0.454399      0.357787   \n",
       "2                             1     ...           0.147749      0.156626   \n",
       "3                             2     ...           0.541085      0.561594   \n",
       "4                             0     ...           0.585709      0.614193   \n",
       "\n",
       "   Probability3  Probability4  Probability5  Probability6  Probability7  \\\n",
       "0      0.512758      0.468555      0.541621      0.516301      0.505471   \n",
       "1      0.423093      0.454664      0.374319      0.513709      0.374143   \n",
       "2      0.153177      0.136374      0.141616      0.145873      0.172736   \n",
       "3      0.566923      0.565656      0.555151      0.557026      0.554870   \n",
       "4      0.641473      0.594752      0.617336      0.680067      0.624035   \n",
       "\n",
       "   Probability8  Probability9  Probability  \n",
       "0      0.492174      0.538217     0.507196  \n",
       "1      0.455867      0.406493     0.429375  \n",
       "2      0.173187      0.141362     0.150304  \n",
       "3      0.527672      0.555432     0.553970  \n",
       "4      0.609328      0.572535     0.616358  \n",
       "\n",
       "[5 rows x 23 columns]"
      ]
     },
     "execution_count": 70,
     "metadata": {},
     "output_type": "execute_result"
    }
   ],
   "source": [
    "df_toPredict.head()"
   ]
  },
  {
   "cell_type": "code",
   "execution_count": 71,
   "metadata": {
    "collapsed": true
   },
   "outputs": [],
   "source": [
    "df_toPredict.rename(inplace=True, columns={df_toPredict.columns[0]:'Id'})"
   ]
  },
  {
   "cell_type": "code",
   "execution_count": 72,
   "metadata": {
    "collapsed": true
   },
   "outputs": [],
   "source": [
    "df_toPredict[['Id','Probability']].to_csv('predictions.csv',index=False)"
   ]
  }
 ],
 "metadata": {
  "kernelspec": {
   "display_name": "Python 2",
   "language": "python",
   "name": "python2"
  },
  "language_info": {
   "codemirror_mode": {
    "name": "ipython",
    "version": 2
   },
   "file_extension": ".py",
   "mimetype": "text/x-python",
   "name": "python",
   "nbconvert_exporter": "python",
   "pygments_lexer": "ipython2",
   "version": "2.7.11"
  }
 },
 "nbformat": 4,
 "nbformat_minor": 0
}
