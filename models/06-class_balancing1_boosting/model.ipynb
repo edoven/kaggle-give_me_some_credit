{
 "cells": [
  {
   "cell_type": "markdown",
   "metadata": {},
   "source": [
    "# Load libraries"
   ]
  },
  {
   "cell_type": "code",
   "execution_count": 39,
   "metadata": {
    "collapsed": false
   },
   "outputs": [],
   "source": [
    "import pandas as pd\n",
    "#from sklearn.cross_validation import KFold,StratifiedKFold\n",
    "#import datetime\n",
    "import numpy as np\n",
    "#from sklearn import linear_model\n",
    "from sklearn.ensemble import RandomForestClassifier\n",
    "#from sklearn import metrics\n",
    "#from sklearn.metrics import roc_auc_score\n",
    "#from sklearn.linear_model import LogisticRegression\n",
    "from sklearn.decomposition import PCA,TruncatedSVD\n",
    "from sklearn import metrics\n",
    "from sklearn.cross_validation import StratifiedKFold\n",
    "import seaborn as sns\n",
    "from sklearn import metrics\n",
    "from sklearn.ensemble import RandomForestRegressor\n",
    "from sklearn.cross_validation import cross_val_score\n",
    "from sklearn.linear_model import Lasso\n",
    "from sklearn.linear_model import Ridge\n",
    "from sklearn.linear_model import BayesianRidge\n",
    "from sklearn.linear_model import ElasticNet\n",
    "from sklearn.svm import SVR\n",
    "from sklearn.ensemble import AdaBoostClassifier\n",
    "from sklearn.ensemble import GradientBoostingClassifier\n",
    "\n",
    "#import seaborn as sns\n",
    "#import pickle\n",
    "#from sklearn import metrics\n",
    "#import sys\n",
    "\n",
    "import matplotlib.pyplot as plt"
   ]
  },
  {
   "cell_type": "code",
   "execution_count": 40,
   "metadata": {
    "collapsed": false
   },
   "outputs": [],
   "source": [
    "plt.style.use('ggplot')\n",
    "\n",
    "%matplotlib inline"
   ]
  },
  {
   "cell_type": "markdown",
   "metadata": {},
   "source": [
    "#  \n",
    "# Load data"
   ]
  },
  {
   "cell_type": "code",
   "execution_count": 41,
   "metadata": {
    "collapsed": false
   },
   "outputs": [],
   "source": [
    "df = pd.read_csv('../../data/cs-training.csv')"
   ]
  },
  {
   "cell_type": "code",
   "execution_count": 42,
   "metadata": {
    "collapsed": false
   },
   "outputs": [
    {
     "data": {
      "text/html": [
       "<div>\n",
       "<table border=\"1\" class=\"dataframe\">\n",
       "  <thead>\n",
       "    <tr style=\"text-align: right;\">\n",
       "      <th></th>\n",
       "      <th>Unnamed: 0</th>\n",
       "      <th>SeriousDlqin2yrs</th>\n",
       "      <th>RevolvingUtilizationOfUnsecuredLines</th>\n",
       "      <th>age</th>\n",
       "      <th>NumberOfTime30-59DaysPastDueNotWorse</th>\n",
       "      <th>DebtRatio</th>\n",
       "      <th>MonthlyIncome</th>\n",
       "      <th>NumberOfOpenCreditLinesAndLoans</th>\n",
       "      <th>NumberOfTimes90DaysLate</th>\n",
       "      <th>NumberRealEstateLoansOrLines</th>\n",
       "      <th>NumberOfTime60-89DaysPastDueNotWorse</th>\n",
       "      <th>NumberOfDependents</th>\n",
       "    </tr>\n",
       "  </thead>\n",
       "  <tbody>\n",
       "    <tr>\n",
       "      <th>0</th>\n",
       "      <td>1</td>\n",
       "      <td>1</td>\n",
       "      <td>0.766127</td>\n",
       "      <td>45</td>\n",
       "      <td>2</td>\n",
       "      <td>0.802982</td>\n",
       "      <td>9120.0</td>\n",
       "      <td>13</td>\n",
       "      <td>0</td>\n",
       "      <td>6</td>\n",
       "      <td>0</td>\n",
       "      <td>2.0</td>\n",
       "    </tr>\n",
       "    <tr>\n",
       "      <th>1</th>\n",
       "      <td>2</td>\n",
       "      <td>0</td>\n",
       "      <td>0.957151</td>\n",
       "      <td>40</td>\n",
       "      <td>0</td>\n",
       "      <td>0.121876</td>\n",
       "      <td>2600.0</td>\n",
       "      <td>4</td>\n",
       "      <td>0</td>\n",
       "      <td>0</td>\n",
       "      <td>0</td>\n",
       "      <td>1.0</td>\n",
       "    </tr>\n",
       "    <tr>\n",
       "      <th>2</th>\n",
       "      <td>3</td>\n",
       "      <td>0</td>\n",
       "      <td>0.658180</td>\n",
       "      <td>38</td>\n",
       "      <td>1</td>\n",
       "      <td>0.085113</td>\n",
       "      <td>3042.0</td>\n",
       "      <td>2</td>\n",
       "      <td>1</td>\n",
       "      <td>0</td>\n",
       "      <td>0</td>\n",
       "      <td>0.0</td>\n",
       "    </tr>\n",
       "    <tr>\n",
       "      <th>3</th>\n",
       "      <td>4</td>\n",
       "      <td>0</td>\n",
       "      <td>0.233810</td>\n",
       "      <td>30</td>\n",
       "      <td>0</td>\n",
       "      <td>0.036050</td>\n",
       "      <td>3300.0</td>\n",
       "      <td>5</td>\n",
       "      <td>0</td>\n",
       "      <td>0</td>\n",
       "      <td>0</td>\n",
       "      <td>0.0</td>\n",
       "    </tr>\n",
       "    <tr>\n",
       "      <th>4</th>\n",
       "      <td>5</td>\n",
       "      <td>0</td>\n",
       "      <td>0.907239</td>\n",
       "      <td>49</td>\n",
       "      <td>1</td>\n",
       "      <td>0.024926</td>\n",
       "      <td>63588.0</td>\n",
       "      <td>7</td>\n",
       "      <td>0</td>\n",
       "      <td>1</td>\n",
       "      <td>0</td>\n",
       "      <td>0.0</td>\n",
       "    </tr>\n",
       "  </tbody>\n",
       "</table>\n",
       "</div>"
      ],
      "text/plain": [
       "   Unnamed: 0  SeriousDlqin2yrs  RevolvingUtilizationOfUnsecuredLines  age  \\\n",
       "0           1                 1                              0.766127   45   \n",
       "1           2                 0                              0.957151   40   \n",
       "2           3                 0                              0.658180   38   \n",
       "3           4                 0                              0.233810   30   \n",
       "4           5                 0                              0.907239   49   \n",
       "\n",
       "   NumberOfTime30-59DaysPastDueNotWorse  DebtRatio  MonthlyIncome  \\\n",
       "0                                     2   0.802982         9120.0   \n",
       "1                                     0   0.121876         2600.0   \n",
       "2                                     1   0.085113         3042.0   \n",
       "3                                     0   0.036050         3300.0   \n",
       "4                                     1   0.024926        63588.0   \n",
       "\n",
       "   NumberOfOpenCreditLinesAndLoans  NumberOfTimes90DaysLate  \\\n",
       "0                               13                        0   \n",
       "1                                4                        0   \n",
       "2                                2                        1   \n",
       "3                                5                        0   \n",
       "4                                7                        0   \n",
       "\n",
       "   NumberRealEstateLoansOrLines  NumberOfTime60-89DaysPastDueNotWorse  \\\n",
       "0                             6                                     0   \n",
       "1                             0                                     0   \n",
       "2                             0                                     0   \n",
       "3                             0                                     0   \n",
       "4                             1                                     0   \n",
       "\n",
       "   NumberOfDependents  \n",
       "0                 2.0  \n",
       "1                 1.0  \n",
       "2                 0.0  \n",
       "3                 0.0  \n",
       "4                 0.0  "
      ]
     },
     "execution_count": 42,
     "metadata": {},
     "output_type": "execute_result"
    }
   ],
   "source": [
    "df.head()"
   ]
  },
  {
   "cell_type": "code",
   "execution_count": 43,
   "metadata": {
    "collapsed": false
   },
   "outputs": [],
   "source": [
    "df.rename(columns={df.columns[0]:'id'}, inplace=True)"
   ]
  },
  {
   "cell_type": "code",
   "execution_count": 44,
   "metadata": {
    "collapsed": false
   },
   "outputs": [
    {
     "data": {
      "text/html": [
       "<div>\n",
       "<table border=\"1\" class=\"dataframe\">\n",
       "  <thead>\n",
       "    <tr style=\"text-align: right;\">\n",
       "      <th></th>\n",
       "      <th>id</th>\n",
       "      <th>SeriousDlqin2yrs</th>\n",
       "      <th>RevolvingUtilizationOfUnsecuredLines</th>\n",
       "      <th>age</th>\n",
       "      <th>NumberOfTime30-59DaysPastDueNotWorse</th>\n",
       "      <th>DebtRatio</th>\n",
       "      <th>MonthlyIncome</th>\n",
       "      <th>NumberOfOpenCreditLinesAndLoans</th>\n",
       "      <th>NumberOfTimes90DaysLate</th>\n",
       "      <th>NumberRealEstateLoansOrLines</th>\n",
       "      <th>NumberOfTime60-89DaysPastDueNotWorse</th>\n",
       "      <th>NumberOfDependents</th>\n",
       "    </tr>\n",
       "  </thead>\n",
       "  <tbody>\n",
       "    <tr>\n",
       "      <th>0</th>\n",
       "      <td>1</td>\n",
       "      <td>1</td>\n",
       "      <td>0.766127</td>\n",
       "      <td>45</td>\n",
       "      <td>2</td>\n",
       "      <td>0.802982</td>\n",
       "      <td>9120.0</td>\n",
       "      <td>13</td>\n",
       "      <td>0</td>\n",
       "      <td>6</td>\n",
       "      <td>0</td>\n",
       "      <td>2.0</td>\n",
       "    </tr>\n",
       "    <tr>\n",
       "      <th>1</th>\n",
       "      <td>2</td>\n",
       "      <td>0</td>\n",
       "      <td>0.957151</td>\n",
       "      <td>40</td>\n",
       "      <td>0</td>\n",
       "      <td>0.121876</td>\n",
       "      <td>2600.0</td>\n",
       "      <td>4</td>\n",
       "      <td>0</td>\n",
       "      <td>0</td>\n",
       "      <td>0</td>\n",
       "      <td>1.0</td>\n",
       "    </tr>\n",
       "    <tr>\n",
       "      <th>2</th>\n",
       "      <td>3</td>\n",
       "      <td>0</td>\n",
       "      <td>0.658180</td>\n",
       "      <td>38</td>\n",
       "      <td>1</td>\n",
       "      <td>0.085113</td>\n",
       "      <td>3042.0</td>\n",
       "      <td>2</td>\n",
       "      <td>1</td>\n",
       "      <td>0</td>\n",
       "      <td>0</td>\n",
       "      <td>0.0</td>\n",
       "    </tr>\n",
       "    <tr>\n",
       "      <th>3</th>\n",
       "      <td>4</td>\n",
       "      <td>0</td>\n",
       "      <td>0.233810</td>\n",
       "      <td>30</td>\n",
       "      <td>0</td>\n",
       "      <td>0.036050</td>\n",
       "      <td>3300.0</td>\n",
       "      <td>5</td>\n",
       "      <td>0</td>\n",
       "      <td>0</td>\n",
       "      <td>0</td>\n",
       "      <td>0.0</td>\n",
       "    </tr>\n",
       "    <tr>\n",
       "      <th>4</th>\n",
       "      <td>5</td>\n",
       "      <td>0</td>\n",
       "      <td>0.907239</td>\n",
       "      <td>49</td>\n",
       "      <td>1</td>\n",
       "      <td>0.024926</td>\n",
       "      <td>63588.0</td>\n",
       "      <td>7</td>\n",
       "      <td>0</td>\n",
       "      <td>1</td>\n",
       "      <td>0</td>\n",
       "      <td>0.0</td>\n",
       "    </tr>\n",
       "  </tbody>\n",
       "</table>\n",
       "</div>"
      ],
      "text/plain": [
       "   id  SeriousDlqin2yrs  RevolvingUtilizationOfUnsecuredLines  age  \\\n",
       "0   1                 1                              0.766127   45   \n",
       "1   2                 0                              0.957151   40   \n",
       "2   3                 0                              0.658180   38   \n",
       "3   4                 0                              0.233810   30   \n",
       "4   5                 0                              0.907239   49   \n",
       "\n",
       "   NumberOfTime30-59DaysPastDueNotWorse  DebtRatio  MonthlyIncome  \\\n",
       "0                                     2   0.802982         9120.0   \n",
       "1                                     0   0.121876         2600.0   \n",
       "2                                     1   0.085113         3042.0   \n",
       "3                                     0   0.036050         3300.0   \n",
       "4                                     1   0.024926        63588.0   \n",
       "\n",
       "   NumberOfOpenCreditLinesAndLoans  NumberOfTimes90DaysLate  \\\n",
       "0                               13                        0   \n",
       "1                                4                        0   \n",
       "2                                2                        1   \n",
       "3                                5                        0   \n",
       "4                                7                        0   \n",
       "\n",
       "   NumberRealEstateLoansOrLines  NumberOfTime60-89DaysPastDueNotWorse  \\\n",
       "0                             6                                     0   \n",
       "1                             0                                     0   \n",
       "2                             0                                     0   \n",
       "3                             0                                     0   \n",
       "4                             1                                     0   \n",
       "\n",
       "   NumberOfDependents  \n",
       "0                 2.0  \n",
       "1                 1.0  \n",
       "2                 0.0  \n",
       "3                 0.0  \n",
       "4                 0.0  "
      ]
     },
     "execution_count": 44,
     "metadata": {},
     "output_type": "execute_result"
    }
   ],
   "source": [
    "df.head()"
   ]
  },
  {
   "cell_type": "code",
   "execution_count": 45,
   "metadata": {
    "collapsed": false
   },
   "outputs": [
    {
     "data": {
      "text/plain": [
       "150000"
      ]
     },
     "execution_count": 45,
     "metadata": {},
     "output_type": "execute_result"
    }
   ],
   "source": [
    "len(df)"
   ]
  },
  {
   "cell_type": "code",
   "execution_count": 46,
   "metadata": {
    "collapsed": false
   },
   "outputs": [
    {
     "data": {
      "text/plain": [
       "id                                      75000.500000\n",
       "SeriousDlqin2yrs                            0.066840\n",
       "RevolvingUtilizationOfUnsecuredLines        6.048438\n",
       "age                                        52.295207\n",
       "NumberOfTime30-59DaysPastDueNotWorse        0.421033\n",
       "DebtRatio                                 353.005076\n",
       "MonthlyIncome                            6670.221237\n",
       "NumberOfOpenCreditLinesAndLoans             8.452760\n",
       "NumberOfTimes90DaysLate                     0.265973\n",
       "NumberRealEstateLoansOrLines                1.018240\n",
       "NumberOfTime60-89DaysPastDueNotWorse        0.240387\n",
       "NumberOfDependents                          0.757222\n",
       "dtype: float64"
      ]
     },
     "execution_count": 46,
     "metadata": {},
     "output_type": "execute_result"
    }
   ],
   "source": [
    "df.mean(axis=0)"
   ]
  },
  {
   "cell_type": "code",
   "execution_count": 47,
   "metadata": {
    "collapsed": true
   },
   "outputs": [],
   "source": [
    "df.rename(columns={'SeriousDlqin2yrs':'target'}, inplace=True)\n",
    "\n",
    "features = [c for c in df.columns if c not in ['id','target']]"
   ]
  },
  {
   "cell_type": "markdown",
   "metadata": {},
   "source": [
    "#  \n",
    "# Replacing NANs"
   ]
  },
  {
   "cell_type": "code",
   "execution_count": 48,
   "metadata": {
    "collapsed": false
   },
   "outputs": [
    {
     "name": "stdout",
     "output_type": "stream",
     "text": [
      "MonthlyIncome 29731 0.19820666666666667\n",
      "NumberOfDependents 3924 0.02616\n"
     ]
    }
   ],
   "source": [
    "for c in df.columns:\n",
    "    nan_count = len(df[df[c].isnull()])\n",
    "    if nan_count>0:\n",
    "        print(c, nan_count, 1.0*nan_count/len(df))"
   ]
  },
  {
   "cell_type": "code",
   "execution_count": 49,
   "metadata": {
    "collapsed": false
   },
   "outputs": [
    {
     "name": "stdout",
     "output_type": "stream",
     "text": [
      "0.0\n",
      "0.0\n"
     ]
    }
   ],
   "source": [
    "print(min(df['MonthlyIncome']))\n",
    "print(min(df['NumberOfDependents']))"
   ]
  },
  {
   "cell_type": "code",
   "execution_count": 50,
   "metadata": {
    "collapsed": false
   },
   "outputs": [],
   "source": [
    "df = df.fillna(-1)"
   ]
  },
  {
   "cell_type": "markdown",
   "metadata": {},
   "source": [
    "#  \n",
    "# Functions"
   ]
  },
  {
   "cell_type": "code",
   "execution_count": 51,
   "metadata": {
    "collapsed": false
   },
   "outputs": [],
   "source": [
    "def getResultsWithCV(dataframe, \n",
    "                     clf, \n",
    "                     target_column, \n",
    "                     features, \n",
    "                     folds=5, \n",
    "                     balance_classes=False, \n",
    "                     balancing_factor=3):\n",
    "\n",
    "    kf = StratifiedKFold(y=dataframe[target_column], \n",
    "                           n_folds=folds, \n",
    "                           shuffle=True,\n",
    "                           random_state=42)\n",
    "    \n",
    "    if list(dataframe.index.values) != list(range(len(dataframe))):\n",
    "        print(\"ERROR WITH INDEX\")\n",
    "        return 0\n",
    "  \n",
    "    AUCs = [] \n",
    "    for train_index, test_index in kf:\n",
    "         \n",
    "        # Train the model\n",
    "        dataframe_train = dataframe.iloc[train_index]\n",
    "        if balance_classes==True:\n",
    "            class_1_samples = len(dataframe_train[dataframe_train[target_column]==1])\n",
    "            dataframe_train = pd.concat([dataframe_train[dataframe_train[target_column]==0].sample(n=class_1_samples*balancing_factor),\n",
    "                                         dataframe_train[dataframe_train[target_column]==1]])     \n",
    "        X_train = dataframe_train[features].values\n",
    "        y_train = dataframe_train[target_column].values     \n",
    "        clf.fit(X_train, y_train)\n",
    "               \n",
    "        # Calculate the predictions\n",
    "        dataframe_test = dataframe.iloc[test_index]\n",
    "        X_test = dataframe_test[features].values\n",
    "        y_test = dataframe_test[target_column].values   \n",
    "        \n",
    "        \n",
    "        predictions_proba = clf.predict_proba(X_test)[:,1]\n",
    "        dataframe.loc[test_index, 'prediction_proba'] = predictions_proba\n",
    "      \n",
    "        fold_auc = metrics.roc_auc_score(y_test,predictions_proba)\n",
    "        AUCs.append(fold_auc)\n",
    "\n",
    "        print( round(fold_auc,4))\n",
    "    return( np.mean(AUCs), np.std(AUCs))"
   ]
  },
  {
   "cell_type": "markdown",
   "metadata": {},
   "source": [
    "#  \n",
    "# Boost - no features scaling"
   ]
  },
  {
   "cell_type": "code",
   "execution_count": 53,
   "metadata": {
    "collapsed": true
   },
   "outputs": [],
   "source": [
    "features = [c for c in df.columns if c not in ['id','target']]"
   ]
  },
  {
   "cell_type": "code",
   "execution_count": 54,
   "metadata": {
    "collapsed": false
   },
   "outputs": [
    {
     "name": "stdout",
     "output_type": "stream",
     "text": [
      "20\n",
      "0.8431\n",
      "0.8625\n",
      "0.8547\n",
      "0.8548\n",
      "0.8566\n",
      "0.854359937936 0.00630406449904\n",
      "50\n",
      "0.8514\n",
      "0.8676\n",
      "0.864\n",
      "0.8601\n",
      "0.8658\n",
      "0.861771767315 0.00575630370718\n",
      "100\n",
      "0.8542\n",
      "0.87\n",
      "0.8666\n",
      "0.8624\n",
      "0.8677\n",
      "0.864200159584 0.00556291616006\n",
      "150\n",
      "0.8544\n",
      "0.87\n",
      "0.8657\n",
      "0.8628\n",
      "0.8685\n",
      "0.864281389306 0.00553685039775\n",
      "200\n",
      "0.8547\n",
      "0.8706\n",
      "0.8658\n",
      "0.8622\n",
      "0.8678\n",
      "0.864207559497 0.00550604528807\n",
      "250\n",
      "0.8538\n",
      "0.87\n",
      "0.8669\n",
      "0.8632\n",
      "0.867\n",
      "0.864191360017 0.00562373207157\n",
      "300\n",
      "0.8535\n",
      "0.8697\n",
      "0.8649\n",
      "0.8589\n",
      "0.8665\n",
      "0.862714776572 0.00578996916388\n",
      "350\n",
      "0.851\n",
      "0.8675\n",
      "0.8653\n",
      "0.8608\n",
      "0.8685\n",
      "0.862594571243 0.00639331102639\n",
      "400\n",
      "0.8535\n",
      "0.8679\n",
      "0.865\n",
      "0.8593\n",
      "0.8662\n",
      "0.862371670514 0.00526494367789\n"
     ]
    }
   ],
   "source": [
    "model2meanStd = {}\n",
    "\n",
    "for n_estimators in [20]+list(np.arange(50,400+1,50)):\n",
    "    print(n_estimators)\n",
    "    #model = AdaBoostClassifier(n_estimators=n_estimators)\n",
    "    model = GradientBoostingClassifier(n_estimators=n_estimators)\n",
    "    (auc_mean,auc_std) = getResultsWithCV(dataframe=df, \n",
    "                                 clf=model, \n",
    "                                 target_column='target', \n",
    "                                 features=features, \n",
    "                                 folds=5, \n",
    "                                 balance_classes=True, \n",
    "                                 balancing_factor=1)\n",
    "    print (auc_mean,auc_std)\n",
    "    model2meanStd[n_estimators] = (auc_mean,auc_std)"
   ]
  },
  {
   "cell_type": "code",
   "execution_count": 60,
   "metadata": {
    "collapsed": false
   },
   "outputs": [
    {
     "data": {
      "image/png": "[encoded data removed]",
      "text/plain": [
       "<matplotlib.figure.Figure at 0x7f8b22d8edd8>"
      ]
     },
     "metadata": {},
     "output_type": "display_data"
    }
   ],
   "source": [
    "for (estimator,results) in model2meanStd.items():\n",
    "    plt.scatter(estimator,results[0])"
   ]
  },
  {
   "cell_type": "code",
   "execution_count": 61,
   "metadata": {
    "collapsed": false
   },
   "outputs": [
    {
     "data": {
      "image/png": "[encoded data removed]",
      "text/plain": [
       "<matplotlib.figure.Figure at 0x7f8b22d4b080>"
      ]
     },
     "metadata": {},
     "output_type": "display_data"
    }
   ],
   "source": [
    "for (estimator,results) in model2meanStd.items():\n",
    "    plt.scatter(estimator,results[1]*200,c='r')"
   ]
  },
  {
   "cell_type": "markdown",
   "metadata": {},
   "source": [
    "#  \n",
    "#  \n",
    "# Generate the solution"
   ]
  },
  {
   "cell_type": "code",
   "execution_count": 62,
   "metadata": {
    "collapsed": true
   },
   "outputs": [],
   "source": [
    "df_toPredict = pd.read_csv('../../data/cs-test.csv')\n",
    "df_toPredict = df_toPredict.fillna(-1)"
   ]
  },
  {
   "cell_type": "code",
   "execution_count": 63,
   "metadata": {
    "collapsed": false
   },
   "outputs": [
    {
     "data": {
      "text/html": [
       "<div>\n",
       "<table border=\"1\" class=\"dataframe\">\n",
       "  <thead>\n",
       "    <tr style=\"text-align: right;\">\n",
       "      <th></th>\n",
       "      <th>id</th>\n",
       "    </tr>\n",
       "    <tr>\n",
       "      <th>target</th>\n",
       "      <th></th>\n",
       "    </tr>\n",
       "  </thead>\n",
       "  <tbody>\n",
       "    <tr>\n",
       "      <th>0</th>\n",
       "      <td>139974</td>\n",
       "    </tr>\n",
       "    <tr>\n",
       "      <th>1</th>\n",
       "      <td>10026</td>\n",
       "    </tr>\n",
       "  </tbody>\n",
       "</table>\n",
       "</div>"
      ],
      "text/plain": [
       "            id\n",
       "target        \n",
       "0       139974\n",
       "1        10026"
      ]
     },
     "execution_count": 63,
     "metadata": {},
     "output_type": "execute_result"
    }
   ],
   "source": [
    "df.groupby('target').count()[['id']]"
   ]
  },
  {
   "cell_type": "code",
   "execution_count": 65,
   "metadata": {
    "collapsed": true
   },
   "outputs": [],
   "source": [
    "clf = GradientBoostingClassifier(n_estimators=200)"
   ]
  },
  {
   "cell_type": "markdown",
   "metadata": {},
   "source": [
    "### Generate 10 datasets using sampling where class are balanced  and use the mean of the 10 predictions"
   ]
  },
  {
   "cell_type": "code",
   "execution_count": 66,
   "metadata": {
    "collapsed": true
   },
   "outputs": [],
   "source": [
    "df_target1 = df[df['target']==1].copy().reset_index(drop=True)\n",
    "df_target0 = df[df['target']==0].copy()"
   ]
  },
  {
   "cell_type": "code",
   "execution_count": 67,
   "metadata": {
    "collapsed": false
   },
   "outputs": [
    {
     "name": "stdout",
     "output_type": "stream",
     "text": [
      "0\n",
      "1\n",
      "2\n",
      "3\n",
      "4\n",
      "5\n",
      "6\n",
      "7\n",
      "8\n",
      "9\n"
     ]
    }
   ],
   "source": [
    "#dfs = []\n",
    "for i in range(10):\n",
    "    print(i) #just added\n",
    "    df_balanced = pd.concat([df_target1,\n",
    "                             df_target0.sample(n=len(df_target1))]).reset_index(drop=True)\n",
    "    clf.fit(df_balanced[features],\n",
    "           df_balanced['target'])\n",
    "    df_toPredict['Probability'+str(i)] = clf.predict_proba(df_toPredict[features])[:,1]\n",
    "    "
   ]
  },
  {
   "cell_type": "code",
   "execution_count": 68,
   "metadata": {
    "collapsed": false
   },
   "outputs": [
    {
     "data": {
      "text/html": [
       "<div>\n",
       "<table border=\"1\" class=\"dataframe\">\n",
       "  <thead>\n",
       "    <tr style=\"text-align: right;\">\n",
       "      <th></th>\n",
       "      <th>Unnamed: 0</th>\n",
       "      <th>SeriousDlqin2yrs</th>\n",
       "      <th>RevolvingUtilizationOfUnsecuredLines</th>\n",
       "      <th>age</th>\n",
       "      <th>NumberOfTime30-59DaysPastDueNotWorse</th>\n",
       "      <th>DebtRatio</th>\n",
       "      <th>MonthlyIncome</th>\n",
       "      <th>NumberOfOpenCreditLinesAndLoans</th>\n",
       "      <th>NumberOfTimes90DaysLate</th>\n",
       "      <th>NumberRealEstateLoansOrLines</th>\n",
       "      <th>...</th>\n",
       "      <th>Probability0</th>\n",
       "      <th>Probability1</th>\n",
       "      <th>Probability2</th>\n",
       "      <th>Probability3</th>\n",
       "      <th>Probability4</th>\n",
       "      <th>Probability5</th>\n",
       "      <th>Probability6</th>\n",
       "      <th>Probability7</th>\n",
       "      <th>Probability8</th>\n",
       "      <th>Probability9</th>\n",
       "    </tr>\n",
       "  </thead>\n",
       "  <tbody>\n",
       "    <tr>\n",
       "      <th>0</th>\n",
       "      <td>1</td>\n",
       "      <td>-1.0</td>\n",
       "      <td>0.885519</td>\n",
       "      <td>43</td>\n",
       "      <td>0</td>\n",
       "      <td>0.177513</td>\n",
       "      <td>5700.0</td>\n",
       "      <td>4</td>\n",
       "      <td>0</td>\n",
       "      <td>0</td>\n",
       "      <td>...</td>\n",
       "      <td>0.497515</td>\n",
       "      <td>0.484593</td>\n",
       "      <td>0.514760</td>\n",
       "      <td>0.512758</td>\n",
       "      <td>0.468555</td>\n",
       "      <td>0.541621</td>\n",
       "      <td>0.516301</td>\n",
       "      <td>0.505471</td>\n",
       "      <td>0.492174</td>\n",
       "      <td>0.538217</td>\n",
       "    </tr>\n",
       "    <tr>\n",
       "      <th>1</th>\n",
       "      <td>2</td>\n",
       "      <td>-1.0</td>\n",
       "      <td>0.463295</td>\n",
       "      <td>57</td>\n",
       "      <td>0</td>\n",
       "      <td>0.527237</td>\n",
       "      <td>9141.0</td>\n",
       "      <td>15</td>\n",
       "      <td>0</td>\n",
       "      <td>4</td>\n",
       "      <td>...</td>\n",
       "      <td>0.479280</td>\n",
       "      <td>0.454399</td>\n",
       "      <td>0.357787</td>\n",
       "      <td>0.423093</td>\n",
       "      <td>0.454664</td>\n",
       "      <td>0.374319</td>\n",
       "      <td>0.513709</td>\n",
       "      <td>0.374143</td>\n",
       "      <td>0.455867</td>\n",
       "      <td>0.406493</td>\n",
       "    </tr>\n",
       "    <tr>\n",
       "      <th>2</th>\n",
       "      <td>3</td>\n",
       "      <td>-1.0</td>\n",
       "      <td>0.043275</td>\n",
       "      <td>59</td>\n",
       "      <td>0</td>\n",
       "      <td>0.687648</td>\n",
       "      <td>5083.0</td>\n",
       "      <td>12</td>\n",
       "      <td>0</td>\n",
       "      <td>1</td>\n",
       "      <td>...</td>\n",
       "      <td>0.134342</td>\n",
       "      <td>0.147749</td>\n",
       "      <td>0.156626</td>\n",
       "      <td>0.153177</td>\n",
       "      <td>0.136374</td>\n",
       "      <td>0.141616</td>\n",
       "      <td>0.145873</td>\n",
       "      <td>0.172736</td>\n",
       "      <td>0.173187</td>\n",
       "      <td>0.141362</td>\n",
       "    </tr>\n",
       "    <tr>\n",
       "      <th>3</th>\n",
       "      <td>4</td>\n",
       "      <td>-1.0</td>\n",
       "      <td>0.280308</td>\n",
       "      <td>38</td>\n",
       "      <td>1</td>\n",
       "      <td>0.925961</td>\n",
       "      <td>3200.0</td>\n",
       "      <td>7</td>\n",
       "      <td>0</td>\n",
       "      <td>2</td>\n",
       "      <td>...</td>\n",
       "      <td>0.554288</td>\n",
       "      <td>0.541085</td>\n",
       "      <td>0.561594</td>\n",
       "      <td>0.566923</td>\n",
       "      <td>0.565656</td>\n",
       "      <td>0.555151</td>\n",
       "      <td>0.557026</td>\n",
       "      <td>0.554870</td>\n",
       "      <td>0.527672</td>\n",
       "      <td>0.555432</td>\n",
       "    </tr>\n",
       "    <tr>\n",
       "      <th>4</th>\n",
       "      <td>5</td>\n",
       "      <td>-1.0</td>\n",
       "      <td>1.000000</td>\n",
       "      <td>27</td>\n",
       "      <td>0</td>\n",
       "      <td>0.019917</td>\n",
       "      <td>3865.0</td>\n",
       "      <td>4</td>\n",
       "      <td>0</td>\n",
       "      <td>0</td>\n",
       "      <td>...</td>\n",
       "      <td>0.624148</td>\n",
       "      <td>0.585709</td>\n",
       "      <td>0.614193</td>\n",
       "      <td>0.641473</td>\n",
       "      <td>0.594752</td>\n",
       "      <td>0.617336</td>\n",
       "      <td>0.680067</td>\n",
       "      <td>0.624035</td>\n",
       "      <td>0.609328</td>\n",
       "      <td>0.572535</td>\n",
       "    </tr>\n",
       "  </tbody>\n",
       "</table>\n",
       "<p>5 rows × 22 columns</p>\n",
       "</div>"
      ],
      "text/plain": [
       "   Unnamed: 0  SeriousDlqin2yrs  RevolvingUtilizationOfUnsecuredLines  age  \\\n",
       "0           1              -1.0                              0.885519   43   \n",
       "1           2              -1.0                              0.463295   57   \n",
       "2           3              -1.0                              0.043275   59   \n",
       "3           4              -1.0                              0.280308   38   \n",
       "4           5              -1.0                              1.000000   27   \n",
       "\n",
       "   NumberOfTime30-59DaysPastDueNotWorse  DebtRatio  MonthlyIncome  \\\n",
       "0                                     0   0.177513         5700.0   \n",
       "1                                     0   0.527237         9141.0   \n",
       "2                                     0   0.687648         5083.0   \n",
       "3                                     1   0.925961         3200.0   \n",
       "4                                     0   0.019917         3865.0   \n",
       "\n",
       "   NumberOfOpenCreditLinesAndLoans  NumberOfTimes90DaysLate  \\\n",
       "0                                4                        0   \n",
       "1                               15                        0   \n",
       "2                               12                        0   \n",
       "3                                7                        0   \n",
       "4                                4                        0   \n",
       "\n",
       "   NumberRealEstateLoansOrLines      ...       Probability0  Probability1  \\\n",
       "0                             0      ...           0.497515      0.484593   \n",
       "1                             4      ...           0.479280      0.454399   \n",
       "2                             1      ...           0.134342      0.147749   \n",
       "3                             2      ...           0.554288      0.541085   \n",
       "4                             0      ...           0.624148      0.585709   \n",
       "\n",
       "   Probability2  Probability3  Probability4  Probability5  Probability6  \\\n",
       "0      0.514760      0.512758      0.468555      0.541621      0.516301   \n",
       "1      0.357787      0.423093      0.454664      0.374319      0.513709   \n",
       "2      0.156626      0.153177      0.136374      0.141616      0.145873   \n",
       "3      0.561594      0.566923      0.565656      0.555151      0.557026   \n",
       "4      0.614193      0.641473      0.594752      0.617336      0.680067   \n",
       "\n",
       "   Probability7  Probability8  Probability9  \n",
       "0      0.505471      0.492174      0.538217  \n",
       "1      0.374143      0.455867      0.406493  \n",
       "2      0.172736      0.173187      0.141362  \n",
       "3      0.554870      0.527672      0.555432  \n",
       "4      0.624035      0.609328      0.572535  \n",
       "\n",
       "[5 rows x 22 columns]"
      ]
     },
     "execution_count": 68,
     "metadata": {},
     "output_type": "execute_result"
    }
   ],
   "source": [
    "df_toPredict.head()"
   ]
  },
  {
   "cell_type": "code",
   "execution_count": 69,
   "metadata": {
    "collapsed": false
   },
   "outputs": [],
   "source": [
    "df_toPredict['Probability'] = df_toPredict[['Probability'+str(i) for i in range(10)]].mean(axis=1)"
   ]
  },
  {
   "cell_type": "code",
   "execution_count": 70,
   "metadata": {
    "collapsed": false
   },
   "outputs": [
    {
     "data": {
      "text/html": [
       "<div>\n",
       "<table border=\"1\" class=\"dataframe\">\n",
       "  <thead>\n",
       "    <tr style=\"text-align: right;\">\n",
       "      <th></th>\n",
       "      <th>Unnamed: 0</th>\n",
       "      <th>SeriousDlqin2yrs</th>\n",
       "      <th>RevolvingUtilizationOfUnsecuredLines</th>\n",
       "      <th>age</th>\n",
       "      <th>NumberOfTime30-59DaysPastDueNotWorse</th>\n",
       "      <th>DebtRatio</th>\n",
       "      <th>MonthlyIncome</th>\n",
       "      <th>NumberOfOpenCreditLinesAndLoans</th>\n",
       "      <th>NumberOfTimes90DaysLate</th>\n",
       "      <th>NumberRealEstateLoansOrLines</th>\n",
       "      <th>...</th>\n",
       "      <th>Probability1</th>\n",
       "      <th>Probability2</th>\n",
       "      <th>Probability3</th>\n",
       "      <th>Probability4</th>\n",
       "      <th>Probability5</th>\n",
       "      <th>Probability6</th>\n",
       "      <th>Probability7</th>\n",
       "      <th>Probability8</th>\n",
       "      <th>Probability9</th>\n",
       "      <th>Probability</th>\n",
       "    </tr>\n",
       "  </thead>\n",
       "  <tbody>\n",
       "    <tr>\n",
       "      <th>0</th>\n",
       "      <td>1</td>\n",
       "      <td>-1.0</td>\n",
       "      <td>0.885519</td>\n",
       "      <td>43</td>\n",
       "      <td>0</td>\n",
       "      <td>0.177513</td>\n",
       "      <td>5700.0</td>\n",
       "      <td>4</td>\n",
       "      <td>0</td>\n",
       "      <td>0</td>\n",
       "      <td>...</td>\n",
       "      <td>0.484593</td>\n",
       "      <td>0.514760</td>\n",
       "      <td>0.512758</td>\n",
       "      <td>0.468555</td>\n",
       "      <td>0.541621</td>\n",
       "      <td>0.516301</td>\n",
       "      <td>0.505471</td>\n",
       "      <td>0.492174</td>\n",
       "      <td>0.538217</td>\n",
       "      <td>0.507196</td>\n",
       "    </tr>\n",
       "    <tr>\n",
       "      <th>1</th>\n",
       "      <td>2</td>\n",
       "      <td>-1.0</td>\n",
       "      <td>0.463295</td>\n",
       "      <td>57</td>\n",
       "      <td>0</td>\n",
       "      <td>0.527237</td>\n",
       "      <td>9141.0</td>\n",
       "      <td>15</td>\n",
       "      <td>0</td>\n",
       "      <td>4</td>\n",
       "      <td>...</td>\n",
       "      <td>0.454399</td>\n",
       "      <td>0.357787</td>\n",
       "      <td>0.423093</td>\n",
       "      <td>0.454664</td>\n",
       "      <td>0.374319</td>\n",
       "      <td>0.513709</td>\n",
       "      <td>0.374143</td>\n",
       "      <td>0.455867</td>\n",
       "      <td>0.406493</td>\n",
       "      <td>0.429375</td>\n",
       "    </tr>\n",
       "    <tr>\n",
       "      <th>2</th>\n",
       "      <td>3</td>\n",
       "      <td>-1.0</td>\n",
       "      <td>0.043275</td>\n",
       "      <td>59</td>\n",
       "      <td>0</td>\n",
       "      <td>0.687648</td>\n",
       "      <td>5083.0</td>\n",
       "      <td>12</td>\n",
       "      <td>0</td>\n",
       "      <td>1</td>\n",
       "      <td>...</td>\n",
       "      <td>0.147749</td>\n",
       "      <td>0.156626</td>\n",
       "      <td>0.153177</td>\n",
       "      <td>0.136374</td>\n",
       "      <td>0.141616</td>\n",
       "      <td>0.145873</td>\n",
       "      <td>0.172736</td>\n",
       "      <td>0.173187</td>\n",
       "      <td>0.141362</td>\n",
       "      <td>0.150304</td>\n",
       "    </tr>\n",
       "    <tr>\n",
       "      <th>3</th>\n",
       "      <td>4</td>\n",
       "      <td>-1.0</td>\n",
       "      <td>0.280308</td>\n",
       "      <td>38</td>\n",
       "      <td>1</td>\n",
       "      <td>0.925961</td>\n",
       "      <td>3200.0</td>\n",
       "      <td>7</td>\n",
       "      <td>0</td>\n",
       "      <td>2</td>\n",
       "      <td>...</td>\n",
       "      <td>0.541085</td>\n",
       "      <td>0.561594</td>\n",
       "      <td>0.566923</td>\n",
       "      <td>0.565656</td>\n",
       "      <td>0.555151</td>\n",
       "      <td>0.557026</td>\n",
       "      <td>0.554870</td>\n",
       "      <td>0.527672</td>\n",
       "      <td>0.555432</td>\n",
       "      <td>0.553970</td>\n",
       "    </tr>\n",
       "    <tr>\n",
       "      <th>4</th>\n",
       "      <td>5</td>\n",
       "      <td>-1.0</td>\n",
       "      <td>1.000000</td>\n",
       "      <td>27</td>\n",
       "      <td>0</td>\n",
       "      <td>0.019917</td>\n",
       "      <td>3865.0</td>\n",
       "      <td>4</td>\n",
       "      <td>0</td>\n",
       "      <td>0</td>\n",
       "      <td>...</td>\n",
       "      <td>0.585709</td>\n",
       "      <td>0.614193</td>\n",
       "      <td>0.641473</td>\n",
       "      <td>0.594752</td>\n",
       "      <td>0.617336</td>\n",
       "      <td>0.680067</td>\n",
       "      <td>0.624035</td>\n",
       "      <td>0.609328</td>\n",
       "      <td>0.572535</td>\n",
       "      <td>0.616358</td>\n",
       "    </tr>\n",
       "  </tbody>\n",
       "</table>\n",
       "<p>5 rows × 23 columns</p>\n",
       "</div>"
      ],
      "text/plain": [
       "   Unnamed: 0  SeriousDlqin2yrs  RevolvingUtilizationOfUnsecuredLines  age  \\\n",
       "0           1              -1.0                              0.885519   43   \n",
       "1           2              -1.0                              0.463295   57   \n",
       "2           3              -1.0                              0.043275   59   \n",
       "3           4              -1.0                              0.280308   38   \n",
       "4           5              -1.0                              1.000000   27   \n",
       "\n",
       "   NumberOfTime30-59DaysPastDueNotWorse  DebtRatio  MonthlyIncome  \\\n",
       "0                                     0   0.177513         5700.0   \n",
       "1                                     0   0.527237         9141.0   \n",
       "2                                     0   0.687648         5083.0   \n",
       "3                                     1   0.925961         3200.0   \n",
       "4                                     0   0.019917         3865.0   \n",
       "\n",
       "   NumberOfOpenCreditLinesAndLoans  NumberOfTimes90DaysLate  \\\n",
       "0                                4                        0   \n",
       "1                               15                        0   \n",
       "2                               12                        0   \n",
       "3                                7                        0   \n",
       "4                                4                        0   \n",
       "\n",
       "   NumberRealEstateLoansOrLines     ...       Probability1  Probability2  \\\n",
       "0                             0     ...           0.484593      0.514760   \n",
       "1                             4     ...           0.454399      0.357787   \n",
       "2                             1     ...           0.147749      0.156626   \n",
       "3                             2     ...           0.541085      0.561594   \n",
       "4                             0     ...           0.585709      0.614193   \n",
       "\n",
       "   Probability3  Probability4  Probability5  Probability6  Probability7  \\\n",
       "0      0.512758      0.468555      0.541621      0.516301      0.505471   \n",
       "1      0.423093      0.454664      0.374319      0.513709      0.374143   \n",
       "2      0.153177      0.136374      0.141616      0.145873      0.172736   \n",
       "3      0.566923      0.565656      0.555151      0.557026      0.554870   \n",
       "4      0.641473      0.594752      0.617336      0.680067      0.624035   \n",
       "\n",
       "   Probability8  Probability9  Probability  \n",
       "0      0.492174      0.538217     0.507196  \n",
       "1      0.455867      0.406493     0.429375  \n",
       "2      0.173187      0.141362     0.150304  \n",
       "3      0.527672      0.555432     0.553970  \n",
       "4      0.609328      0.572535     0.616358  \n",
       "\n",
       "[5 rows x 23 columns]"
      ]
     },
     "execution_count": 70,
     "metadata": {},
     "output_type": "execute_result"
    }
   ],
   "source": [
    "df_toPredict.head()"
   ]
  },
  {
   "cell_type": "code",
   "execution_count": 71,
   "metadata": {
    "collapsed": true
   },
   "outputs": [],
   "source": [
    "df_toPredict.rename(inplace=True, columns={df_toPredict.columns[0]:'Id'})"
   ]
  },
  {
   "cell_type": "code",
   "execution_count": 72,
   "metadata": {
    "collapsed": true
   },
   "outputs": [],
   "source": [
    "df_toPredict[['Id','Probability']].to_csv('predictions.csv',index=False)"
   ]
  }
 ],
 "metadata": {
  "kernelspec": {
   "display_name": "Python 3",
   "language": "python",
   "name": "python3"
  },
  "language_info": {
   "codemirror_mode": {
    "name": "ipython",
    "version": 3
   },
   "file_extension": ".py",
   "mimetype": "text/x-python",
   "name": "python",
   "nbconvert_exporter": "python",
   "pygments_lexer": "ipython3",
   "version": "3.5.2"
  }
 },
 "nbformat": 4,
 "nbformat_minor": 0
}
